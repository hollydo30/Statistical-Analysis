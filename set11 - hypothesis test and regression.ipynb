{
 "cells": [
  {
   "cell_type": "markdown",
   "id": "54cff8e2",
   "metadata": {},
   "source": [
    "# Problem Set 11\n",
    "Holly Do"
   ]
  },
  {
   "cell_type": "code",
   "execution_count": 2,
   "id": "a73b6d62",
   "metadata": {},
   "outputs": [],
   "source": [
    "import random as rnd\n",
    "import math as mth\n",
    "import statistics as sts\n",
    "import numpy as np\n",
    "import scipy as sci\n",
    "import scipy.linalg as la\n",
    "import scipy.stats as st\n",
    "import scipy.special as spp\n",
    "import matplotlib.pyplot as plt\n",
    "import sympy as sy\n",
    "import stemgraphic as stm\n",
    "import itertools as it\n",
    "import operator as op"
   ]
  },
  {
   "cell_type": "markdown",
   "id": "91cc0740",
   "metadata": {},
   "source": [
    "# 1"
   ]
  },
  {
   "cell_type": "markdown",
   "id": "d81e2b76",
   "metadata": {},
   "source": [
    "CI for standard deviation "
   ]
  },
  {
   "cell_type": "code",
   "execution_count": 87,
   "id": "1fc1dc61",
   "metadata": {},
   "outputs": [
    {
     "name": "stdout",
     "output_type": "stream",
     "text": [
      "50.0\n"
     ]
    }
   ],
   "source": [
    "sal = np.array([30,50,70])\n",
    "mean = np.mean(sal)\n",
    "print(mean)"
   ]
  },
  {
   "cell_type": "code",
   "execution_count": null,
   "id": "42452149",
   "metadata": {},
   "outputs": [
    {
     "name": "stdout",
     "output_type": "stream",
     "text": [
      "800\n"
     ]
    }
   ],
   "source": [
    "#sum of square of difference\n",
    "s2 = (30-50)**2 + (50-50)**2 + (70 - 50)**2\n",
    "print (s2)"
   ]
  },
  {
   "cell_type": "code",
   "execution_count": null,
   "id": "5d8ebd0c",
   "metadata": {},
   "outputs": [
    {
     "name": "stdout",
     "output_type": "stream",
     "text": [
      "0.10258658877510105 5.991464547107979\n"
     ]
    }
   ],
   "source": [
    "dof = 2\n",
    "alpha = 1-0.9\n",
    "\n",
    "#chi square values at alpha\n",
    "chi2_low = st.chi2.ppf(alpha/2, dof)\n",
    "chi2_hi = st.chi2.ppf(1 - alpha/2, dof)\n",
    "print(chi2_low, chi2_hi)"
   ]
  },
  {
   "cell_type": "code",
   "execution_count": null,
   "id": "6d8c1025",
   "metadata": {},
   "outputs": [
    {
     "name": "stdout",
     "output_type": "stream",
     "text": [
      "11.644450194791638 89.44271909999159\n"
     ]
    }
   ],
   "source": [
    "# CI values from sum of square of dif / chi square\n",
    "low = mth.sqrt(800/(5.9))\n",
    "hi =  mth.sqrt(800/(0.1))\n",
    "print(low, hi)"
   ]
  },
  {
   "cell_type": "markdown",
   "id": "8bf1796e",
   "metadata": {},
   "source": [
    "# 2"
   ]
  },
  {
   "cell_type": "markdown",
   "id": "d7b7f428",
   "metadata": {},
   "source": [
    "Given: \n",
    "* Normal distribution \n",
    "* Given sample and pop standard deviations $\\sigma$\n",
    "\n",
    "Formula to use : Chi square \n",
    "\n",
    "This is a Chi square test, two sided test"
   ]
  },
  {
   "cell_type": "markdown",
   "id": "351635d6",
   "metadata": {},
   "source": [
    "$H_0 : $  sample_sigma = sigma\n",
    "\n",
    "$H_A : $  sample_sigma != sigma\n",
    "\n",
    "Test for standard deviation using chi-square value, 2 sided test"
   ]
  },
  {
   "cell_type": "code",
   "execution_count": null,
   "id": "dca54b91",
   "metadata": {},
   "outputs": [
    {
     "name": "stdout",
     "output_type": "stream",
     "text": [
      "59.9664\n",
      "25.695390399574777 54.572227758941736\n"
     ]
    }
   ],
   "source": [
    "mu = 42\n",
    "sigma = 5\n",
    "# sample\n",
    "n =40\n",
    "s_mean = 42.1\n",
    "s_sigma = 6.2\n",
    "dof = 39\n",
    "alpha = 0.1\n",
    "chi2 = ( dof * (s_sigma**2) ) / sigma**2 # dof * d sum of square / dof // sqrt sum pf square / dof\n",
    "print(chi2)\n",
    "\n",
    "chi2_low = st.chi2.ppf(alpha/2, dof)\n",
    "chi2_hi = st.chi2.ppf(1 - alpha/2, dof)\n",
    "\n",
    "print(chi2_low, chi2_hi)\n",
    "\n"
   ]
  },
  {
   "cell_type": "markdown",
   "id": "f0038f11",
   "metadata": {},
   "source": [
    "At the 10% significance level, reject null because chi square value of sample is greater than upper bound. Sample variance is different from the hypothesized population variance. "
   ]
  },
  {
   "cell_type": "markdown",
   "id": "81494085",
   "metadata": {},
   "source": [
    "# 3"
   ]
  },
  {
   "cell_type": "markdown",
   "id": "4fe0008f",
   "metadata": {},
   "source": [
    "Ho: Poisson distribution for some lambda\n",
    "\n",
    "Ha : Not Poisson distribution for all lambda "
   ]
  },
  {
   "cell_type": "code",
   "execution_count": null,
   "id": "43af0173",
   "metadata": {},
   "outputs": [
    {
     "data": {
      "text/plain": [
       "(array([19, 10, 15,  5,  2,  2,  5,  2]),\n",
       " array([ 0.  ,  4.25,  8.5 , 12.75, 17.  , 21.25, 25.5 , 29.75, 34.  ]),\n",
       " np.int64(34),\n",
       " <scipy.stats._distn_infrastructure.rv_discrete_frozen at 0x1d036ff3cf0>)"
      ]
     },
     "execution_count": 56,
     "metadata": {},
     "output_type": "execute_result"
    },
    {
     "data": {
      "image/png": "[encoded data removed]",
      "text/plain": [
       "<Figure size 640x480 with 1 Axes>"
      ]
     },
     "metadata": {},
     "output_type": "display_data"
    }
   ],
   "source": [
    "from scipy.stats import chi2\n",
    "\n",
    "spam = np.loadtxt('spam.txt').astype(int)\n",
    "lamhat = np.mean(spam)\n",
    "max = np.max(spam)\n",
    "n = np.size(spam)\n",
    "alpha = 0.01\n",
    "\n",
    "# sample histogram with auto bins\n",
    "dst = st.poisson(lamhat)\n",
    "\n",
    "# auto does not work, pop poisson bins must have >5 elems ->generate below \n",
    "hist, edg = np.histogram(spam, bins=\"auto\")\n",
    "_=plt.hist(spam)\n",
    "hist, edg, max, dst\n"
   ]
  },
  {
   "cell_type": "code",
   "execution_count": 59,
   "id": "fe18f638",
   "metadata": {},
   "outputs": [
    {
     "name": "stdout",
     "output_type": "stream",
     "text": [
      "[-1  7  9 11 13 18 19]\n"
     ]
    }
   ],
   "source": [
    "# population poisson 5 bins divided proportionally\n",
    "dst = st.poisson(lamhat)\n",
    "\n",
    "cdf_thresholds = [0, 0.2, 0.4, 0.6, 0.8, 0.99]\n",
    "edges = [dst.ppf(p) for p in cdf_thresholds]\n",
    "edges = np.unique(np.floor(edges)).astype(int)\n",
    "edges = np.append(edges, edges[-1] + 1)\n",
    "\n",
    "print(edges)"
   ]
  },
  {
   "cell_type": "code",
   "execution_count": null,
   "id": "4fe9fa40",
   "metadata": {},
   "outputs": [
    {
     "data": {
      "text/plain": [
       "(array([ 7.80848525, 12.16069547, 27.52420786,  7.49910304,  5.00750838]),\n",
       " np.float64(1.0))"
      ]
     },
     "execution_count": 27,
     "metadata": {},
     "output_type": "execute_result"
    }
   ],
   "source": [
    "# population poisson 4 first bins  plus last bin adjusted \n",
    "edg1 = np.array( [-0.2, 6.1, 8.1, 12.1, 14.1, max + 1] )\n",
    "\n",
    "# generate 5 vals probilities pop poisson from i+1 val - i val\n",
    "pk = dst.cdf( edg1[1:]) - dst.cdf(edg1[0:-1] )\n",
    "# adjust last val\n",
    "pk[-1] = 1 - dst.cdf(edg1[-2])\n",
    "\n",
    "# expected counts according to pop poisson\n",
    "n*pk, sum(pk)"
   ]
  },
  {
   "cell_type": "code",
   "execution_count": null,
   "id": "64ab3eef",
   "metadata": {},
   "outputs": [
    {
     "data": {
      "text/plain": [
       "(array([25,  4, 15,  4, 12]),\n",
       " array([-0.2,  6.1,  8.1, 12.1, 14.1, 35. ]),\n",
       " np.int64(60))"
      ]
     },
     "execution_count": 61,
     "metadata": {},
     "output_type": "execute_result"
    }
   ],
   "source": [
    "# use histogram to calculate sample counts in poisson bins , 6 edges = 5 bins = 5 vals in obs\n",
    "obs, edg_o = np.histogram(spam, bins = edg1) #adjusted last bin included \n",
    "obs, edg_o, sum(obs)"
   ]
  },
  {
   "cell_type": "code",
   "execution_count": null,
   "id": "7194a713",
   "metadata": {},
   "outputs": [
    {
     "name": "stdout",
     "output_type": "stream",
     "text": [
      "5\n"
     ]
    },
    {
     "data": {
      "text/plain": [
       "np.float64(4.776179451937423e-13)"
      ]
     },
     "execution_count": 43,
     "metadata": {},
     "output_type": "execute_result"
    }
   ],
   "source": [
    "n = len(spam)\n",
    "exp = n*pk\n",
    "\n",
    "#chi2obs from exp an dobs counts \n",
    "chi2obs = sum( (exp-obs)**2/exp )\n",
    "\n",
    "# length - num of params - 1\n",
    "dof = len(obs) -1 -1 \n",
    "\n",
    "print (len(obs))\n",
    "\n",
    "#calculate p_val as upper tail if p_val<alpha then reject null (null is poisson)\n",
    "p_val = 1 - st.chi2(dof).cdf(chi2obs)\n",
    "\n",
    "p_val"
   ]
  },
  {
   "cell_type": "markdown",
   "id": "bfae2962",
   "metadata": {},
   "source": [
    "Using 5 bins resulted in p_value of near zero meaning observed data is entirely different from the expected Poisson distributed data."
   ]
  },
  {
   "cell_type": "markdown",
   "id": "ca6f905f",
   "metadata": {},
   "source": [
    "# 4.1"
   ]
  },
  {
   "cell_type": "code",
   "execution_count": 4,
   "id": "2594e7bc",
   "metadata": {},
   "outputs": [
    {
     "data": {
      "image/png": "[encoded data removed]",
      "text/plain": [
       "<Figure size 640x480 with 1 Axes>"
      ]
     },
     "metadata": {},
     "output_type": "display_data"
    }
   ],
   "source": [
    "# load data\n",
    "yr, pop = np.loadtxt('pop-usa.txt')\n",
    "mean_population = np.mean(pop)\n",
    "# draw scatter plot\n",
    "_ = plt.scatter(yr,pop)\n",
    "\n"
   ]
  },
  {
   "cell_type": "markdown",
   "id": "a246692c",
   "metadata": {},
   "source": [
    "# 4.2"
   ]
  },
  {
   "cell_type": "code",
   "execution_count": 6,
   "id": "a859f568",
   "metadata": {},
   "outputs": [
    {
     "name": "stdout",
     "output_type": "stream",
     "text": [
      "Coef 1: 1.3603557312252947\n",
      "Coef 2: 2389.371541501974\n"
     ]
    }
   ],
   "source": [
    "import scipy.linalg as la\n",
    "\n",
    "x = yr - 1790\n",
    "\n",
    "#construct regression linear system\n",
    "A=[ [y, 1] for y in x]\n",
    "\n",
    "#coef\n",
    "coef, *_ = la.lstsq(A,pop)\n",
    "\n",
    "print(\"Coef 1:\", coef[0])\n",
    "print(\"Coef 2:\", coef[1])"
   ]
  },
  {
   "cell_type": "code",
   "execution_count": null,
   "id": "5d8b7b62",
   "metadata": {},
   "outputs": [
    {
     "name": "stdout",
     "output_type": "stream",
     "text": [
      "R-squared: 0.9193285511818986\n"
     ]
    }
   ],
   "source": [
    "# Calculate predicted y values\n",
    "y_pred = [coef[0] * y + coef[1] for y in yr]\n",
    "\n",
    "# Calculate sum of square of dif between predicted and mean\n",
    "ss_reg = np.sum((y_pred - mean_population) ** 2)  \n",
    "\n",
    "# Calculate sum of square of dif between real values and mean\n",
    "ss_total = np.sum((pop - mean_population) ** 2)  \n",
    "\n",
    "# R square value \n",
    "r2 = ss_reg / ss_total \n",
    "print(f\"R-squared: {r2}\")"
   ]
  },
  {
   "cell_type": "markdown",
   "id": "216f33a9",
   "metadata": {},
   "source": [
    "Approximately 91.93% of the variation in the population data is explained by regression data."
   ]
  },
  {
   "cell_type": "markdown",
   "id": "28ac9d8d",
   "metadata": {},
   "source": [
    "# 4.3"
   ]
  },
  {
   "cell_type": "code",
   "execution_count": 107,
   "id": "d67f68e4",
   "metadata": {},
   "outputs": [
    {
     "name": "stdout",
     "output_type": "stream",
     "text": [
      "coef [ 3.59542984e-04 -5.97779124e+02 -5.97779124e+02]\n"
     ]
    }
   ],
   "source": [
    "#construct regression linear system\n",
    "A=[ [y**2, 1, 1] for y in yr ]\n",
    "\n",
    "#coef\n",
    "coef, *_ = la.lstsq(A,pop)\n",
    "\n",
    "print(\"coef\", coef)"
   ]
  },
  {
   "cell_type": "code",
   "execution_count": 113,
   "id": "64ca2733",
   "metadata": {},
   "outputs": [
    {
     "name": "stdout",
     "output_type": "stream",
     "text": [
      "R-squared: 242317.97793196965\n"
     ]
    }
   ],
   "source": [
    "# Calculate predicted y values\n",
    "y_pred = [coef[0] * y**2 + coef[1] + coef[2] for y in yr]\n",
    "\n",
    "# Calculate sum of square of dif between predicted and mean\n",
    "ss_reg = np.sum((y_pred - mean_population) ** 2)  \n",
    "\n",
    "# Calculate sum of square of dif between real values and mean\n",
    "ss_total = np.sum((pop - mean_population) ** 2) \n",
    "\n",
    "# R square value\n",
    "r2 = ss_reg / ss_total \n",
    "print(f\"R-squared: {r2}\")"
   ]
  },
  {
   "cell_type": "markdown",
   "id": "bd4603f3",
   "metadata": {},
   "source": [
    "Approximately 92.76% of the variation in the population data is explained by regression data."
   ]
  },
  {
   "cell_type": "markdown",
   "id": "fcce6e38",
   "metadata": {},
   "source": [
    "# 4.4"
   ]
  },
  {
   "cell_type": "code",
   "execution_count": 110,
   "id": "de740465",
   "metadata": {},
   "outputs": [
    {
     "name": "stdout",
     "output_type": "stream",
     "text": [
      "[ 6.77351779e-03 -2.43790119e+01  2.19418938e+04]\n"
     ]
    }
   ],
   "source": [
    "#construct regression linear system\n",
    "A=[ [y**2, y, 1] for y in yr ]\n",
    "\n",
    "#coef\n",
    "coef, *_ = la.lstsq(A,pop)\n",
    "\n",
    "print(coef)"
   ]
  },
  {
   "cell_type": "code",
   "execution_count": null,
   "id": "d0a34321",
   "metadata": {},
   "outputs": [
    {
     "name": "stdout",
     "output_type": "stream",
     "text": [
      "R-squared: 0.9991027336433714\n"
     ]
    }
   ],
   "source": [
    "# Calculate predicted y values\n",
    "y_pred = [coef[0] * y**2 + coef[1] * y + coef[2] for y in yr]\n",
    "\n",
    "# Calculate sum of square of dif between predicted and mean\n",
    "ss_reg = np.sum((y_pred - mean_population) ** 2)  \n",
    "\n",
    "# Calculate sum of square of dif between real values and mean\n",
    "ss_total = np.sum((pop - mean_population) ** 2)\n",
    "\n",
    "r2 = ss_reg / ss_total \n",
    "print(f\"R-squared: {r2}\")"
   ]
  },
  {
   "cell_type": "markdown",
   "id": "be54ee27",
   "metadata": {},
   "source": [
    "Approximately 99.91% of the variation in the population data is explained by regression data."
   ]
  },
  {
   "cell_type": "code",
   "execution_count": null,
   "id": "c5cd3627",
   "metadata": {},
   "outputs": [
    {
     "name": "stdout",
     "output_type": "stream",
     "text": [
      "5.0\n"
     ]
    }
   ],
   "source": [
    "\n",
    "from scipy import stats\n",
    "# find expected value of chi square by df\n",
    "mean = stats.chi2.mean(df=5)\n",
    "print(mean)\n"
   ]
  },
  {
   "cell_type": "code",
   "execution_count": null,
   "id": "980acecd",
   "metadata": {},
   "outputs": [
    {
     "name": "stdout",
     "output_type": "stream",
     "text": [
      "3.25\n",
      "0.4500000000000003\n",
      "0.35184631774927133 7.814727903251179\n",
      "0.23996160921354318 1.130667542166614\n"
     ]
    }
   ],
   "source": [
    "# Find CI of sd using chi square distribution\n",
    "\n",
    "gpa = np.array([3.1,3.4,3.7,2.8])\n",
    "mean = np.mean(gpa)\n",
    "print(mean)\n",
    "\n",
    "# Sum of square difference of sample\n",
    "s2 = (3.1-3.25)**2 + (3.4-3.25)**2 + (3.7-3.25)**2 + (2.8-3.25)**2\n",
    "print (s2)\n",
    "\n",
    "dof = 4-1\n",
    "alpha = 1-0.9\n",
    "\n",
    "#chi square values at alpha\n",
    "chi2_low = st.chi2.ppf(alpha/2, dof)\n",
    "chi2_hi = st.chi2.ppf(1 - alpha/2, dof)\n",
    "print(chi2_low, chi2_hi)\n",
    "\n",
    "# CI values from sum of square of dif / chi square = sd\n",
    "# chi2 = ( dof * (s_sigma**2) ) / sigma**2                  # sum of square / sigma**2 \n",
    "# This is CI of SD, if Var then without mth.sqrt\n",
    "low = mth.sqrt(s2/(7.815))\n",
    "hi =  mth.sqrt(s2/(0.352))\n",
    "\n",
    "print(low, hi)\n"
   ]
  }
 ],
 "metadata": {
  "kernelspec": {
   "display_name": "Python 3",
   "language": "python",
   "name": "python3"
  },
  "language_info": {
   "codemirror_mode": {
    "name": "ipython",
    "version": 3
   },
   "file_extension": ".py",
   "mimetype": "text/x-python",
   "name": "python",
   "nbconvert_exporter": "python",
   "pygments_lexer": "ipython3",
   "version": "3.13.2"
  }
 },
 "nbformat": 4,
 "nbformat_minor": 5
}
