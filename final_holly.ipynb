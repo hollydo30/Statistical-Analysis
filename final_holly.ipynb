{
 "cells": [
  {
   "cell_type": "markdown",
   "id": "0f94c899",
   "metadata": {},
   "source": [
    "# Final COMP 680\n",
    "\n",
    " Holly Do"
   ]
  },
  {
   "cell_type": "code",
   "execution_count": 2,
   "id": "aaf60bbf",
   "metadata": {},
   "outputs": [],
   "source": [
    "# %load ../include.py\n",
    "#\n",
    "#\n",
    "import random as rnd\n",
    "import math as mth\n",
    "import statistics as sts\n",
    "import numpy as np\n",
    "import scipy as sci\n",
    "import scipy.linalg as la\n",
    "import scipy.stats as st\n",
    "import scipy.special as spp\n",
    "import matplotlib.pyplot as plt\n",
    "import sympy as sy\n",
    "#!pip install stemgraphic # this is needed in Google Collaboratory\n",
    "import stemgraphic as stm\n",
    "import itertools as it\n",
    "import operator as op\n"
   ]
  },
  {
   "cell_type": "markdown",
   "id": "9e2675a1",
   "metadata": {},
   "source": [
    "# 1. B"
   ]
  },
  {
   "cell_type": "code",
   "execution_count": 9,
   "id": "113f6be9",
   "metadata": {},
   "outputs": [
    {
     "name": "stdout",
     "output_type": "stream",
     "text": [
      "48.233333333333334 703.1505747126437\n",
      "Alpha 3.3086148658773347 Lamda 0.06859602348052525\n"
     ]
    }
   ],
   "source": [
    "a = np.array([[70, 36,43,69,82,48,34,62,35,15,59, 139, 46, 37, 42, 30, 55, 56, 36, 82, 38, 89, 54, 25, 35, 24, 22, 9, 56, 19]])\n",
    "n= 30\n",
    "mean = np.mean(a)\n",
    "var = np.var(a, ddof=1)\n",
    "print(mean,var)\n",
    "\n",
    "# Using sample's first and second moments we have the equation\n",
    "# mean = alpha/lamda\n",
    "# var = alpha/(lamda**2)\n",
    "# var = 48.23/lamda\n",
    "lamda = mean / var\n",
    "alpha = mean * lamda\n",
    "print(\"Alpha\", alpha, \"Lamda\", lamda)"
   ]
  },
  {
   "cell_type": "markdown",
   "id": "cdbbb2d9",
   "metadata": {},
   "source": [
    "# 2.\n",
    "\n",
    "A random sample of 40 households in a country Omega was selected as part of a study on electricity usage, and the number of kilowatt-hours (kWh) was recorded for each household in the sample for the first quarter of 2022. The average usage was found to be 310 kWh. In a very large study in the first quarter of the previous year, it was found that the standard deviation of the usage was 89 kWh.\n",
    "\n",
    "Assuming the standard deviation is unchanged and that the usage is normally distributed, provide an expression for calculating a 95% confidence interval for the mean usage in the first quarter of 2022."
   ]
  },
  {
   "cell_type": "markdown",
   "id": "de609573",
   "metadata": {},
   "source": [
    "Given:\n",
    "* Large sample size > 30\n",
    "* Unknown population standard deviation\n",
    "\n",
    "Formula to use : T distribution"
   ]
  },
  {
   "cell_type": "code",
   "execution_count": 5,
   "id": "04e369be",
   "metadata": {},
   "outputs": [
    {
     "data": {
      "text/plain": [
       "(np.float64(281.53641912113335), np.float64(338.46358087886665))"
      ]
     },
     "execution_count": 5,
     "metadata": {},
     "output_type": "execute_result"
    }
   ],
   "source": [
    "xbar = 310\n",
    "ssig = 89\n",
    "n = 40\n",
    "alpha = 1-0.95\n",
    "\n",
    "def t_CI(xbar,sample_std,n,alpha):\n",
    "    '''\n",
    "    Use t scoring for CI\n",
    "    '''\n",
    "    factor = abs(st.t(n-1).ppf(alpha/2)*(sample_std/mth.sqrt(n))) #difference is (n-1)\n",
    "    return (xbar - factor, xbar+factor)\n",
    "\n",
    "\n",
    "t_CI(xbar,ssig,n,alpha)"
   ]
  },
  {
   "cell_type": "markdown",
   "id": "b62adf6f",
   "metadata": {},
   "source": [
    "A 95% confidence interval for the mean usage in the first quarter of 2022 is (281.54, 338.47)"
   ]
  },
  {
   "cell_type": "markdown",
   "id": "ddb569eb",
   "metadata": {},
   "source": [
    "# 3.\n",
    "\n",
    "The development office and the registrar have provided you with anonymous matches of starting salaries and GPAs for 108 graduating computer science majors. Your sample contains a variety of jobs, from church pastor to stockbroker.\n",
    "\n",
    "(7 pts) The average starting salary for the 108 students was  $38,644 with a standard deviation of $7,541. Construct a 90% confidence interval for the true mean starting salary of all economics majors at your university.\n",
    "(8 pts) You wonder if it pays to get good grades by calculating the average salary for computer science majors who graduated with a cumulative GPA of B+ or better, and those who had a B or worse. The data is as shown in the following table.\n",
    "\n",
    "Your friend claims that very high GPA secures higher starting salaries in the population. Conduct the appropriate hypothesis test, state clearly your null and alternative hypothesis, find the p-value and specify clearly whether your analysis support or not your friend's claim and a what statistical significance level."
   ]
  },
  {
   "cell_type": "markdown",
   "id": "3529c6f5",
   "metadata": {},
   "source": [
    "# 3.1\n",
    "\n",
    "Given:\n",
    "* Large sample size > 30\n",
    "* Given population standard deviation\n",
    "\n",
    "Formula to use : Z distribution"
   ]
  },
  {
   "cell_type": "code",
   "execution_count": 7,
   "id": "95f0fd41",
   "metadata": {},
   "outputs": [],
   "source": [
    "# Confidence interval of Z distribution\n",
    "def z_CI(xbar,sigma,n,alpha):\n",
    "    '''\n",
    "    xbar is the estimate for mu\n",
    "    sigma is the standard deviation\n",
    "    alpha is the significance level\n",
    "    '''\n",
    "    factor = abs(st.norm.ppf(alpha/2)*(sigma/mth.sqrt(n)))\n",
    "    return (xbar - factor, xbar+factor)"
   ]
  },
  {
   "cell_type": "code",
   "execution_count": 79,
   "id": "cfe3f3e4",
   "metadata": {},
   "outputs": [
    {
     "data": {
      "text/plain": [
       "(np.float64(37450.43982395151), np.float64(39837.56017604849))"
      ]
     },
     "execution_count": 79,
     "metadata": {},
     "output_type": "execute_result"
    }
   ],
   "source": [
    "xbar = 38644\n",
    "sigma = 7541\n",
    "n = 108\n",
    "alpha = 1 - .9\n",
    "lo,hi = z_CI(xbar,sigma,n,alpha)\n",
    "lo,hi"
   ]
  },
  {
   "cell_type": "markdown",
   "id": "962a9b39",
   "metadata": {},
   "source": [
    "90% confidence interval for the true mean starting salary of all economics majors at your university is (37450, 39838)"
   ]
  },
  {
   "cell_type": "markdown",
   "id": "a5715f74",
   "metadata": {},
   "source": [
    "# 3.2\n",
    "\n",
    "Setup for Hypothesis Test: This is t-test With Unequal Variance (test difference of means) one sided test. \n",
    "\n",
    "$H_0: mean_b - mean_c = 0 \n",
    "\n",
    "$H_A: mean_b - mean_c > 0 "
   ]
  },
  {
   "cell_type": "markdown",
   "id": "3a093704",
   "metadata": {},
   "source": [
    "\n",
    "In this unequal-variance case, the degrees of freedom for the t-test is given by the Satterthwaite formula\n",
    ">$\n",
    "   \\nu = \\dfrac{\\left(\\dfrac{s_X^2}{n} + \\dfrac{s_Y^2}{m}\\right)^2}\n",
    "   {\\dfrac{s_X^4}{n^2\\,(n-1)} + \\dfrac{s_Y^4}{m^2\\,(m-1)}}\n",
    "$"
   ]
  },
  {
   "cell_type": "code",
   "execution_count": 7,
   "id": "700bb5d5",
   "metadata": {},
   "outputs": [
    {
     "name": "stdout",
     "output_type": "stream",
     "text": [
      "104.73464540220431\n"
     ]
    },
    {
     "data": {
      "text/plain": [
       "np.float64(0.022655816329638978)"
      ]
     },
     "execution_count": 7,
     "metadata": {},
     "output_type": "execute_result"
    }
   ],
   "source": [
    "mu_b = 39915\n",
    "mu_c = 37083\n",
    "\n",
    "b_var = 8330**2\n",
    "c_var = 6174**2\n",
    "nb = 59\n",
    "nc = 49\n",
    "\n",
    "## pooled sample variance\n",
    "sig = mth.sqrt((b_var/nb) + (c_var/nc))\n",
    "\n",
    "tstat = (mu_b - mu_c)/sig\n",
    "\n",
    "dftop = ((b_var/nb) + (c_var/nc))**2 \n",
    "dfbottom = ((b_var**2) / ((nb**2)*(nb-1))) + ((c_var**2) / ((nc**2)*(nc-1)))\n",
    "df = dftop/dfbottom\n",
    "print(df)\n",
    "\n",
    "pval = 1-st.t(df).cdf(tstat)\n",
    "pval"
   ]
  },
  {
   "cell_type": "markdown",
   "id": "f03d65df",
   "metadata": {},
   "source": [
    "With p value of 2.3%, less than standard alpha 5%, there is sufficient evidence to reject the null hypothesis meaning your friend can claim that very high GPA secures higher starting salaries in the population."
   ]
  },
  {
   "cell_type": "markdown",
   "id": "78dd0d70",
   "metadata": {},
   "source": [
    "# 4.\n",
    "\n",
    "We know that labor hours per day is a random variable distributed as \n",
    ".  We have a random sample of the following observations:\n",
    "\n",
    "12, 11, 14, 10, 9, 9, 8\n",
    "\n",
    "a. (5 pts) Find a confidence interval for the mean \n",
    " at the 95% confidence level.\n",
    "\n",
    "b. (5 pts) Find a confidence interval for \n",
    " and \n",
    " at the 5% significance level.\n",
    "\n",
    "c. (10 pts) Suppose we take a second random sample, and we get\n",
    "\n",
    "10, 9, 7, 15, 6, 14, 6\n",
    "\n",
    "With 95% confidence level, can we affirm that the variance of the first sample is lower than the second one? [Hint. Calculate the p-value]"
   ]
  },
  {
   "cell_type": "markdown",
   "id": "c17004ce",
   "metadata": {},
   "source": [
    "# 4.a"
   ]
  },
  {
   "cell_type": "markdown",
   "id": "12371668",
   "metadata": {},
   "source": [
    "Given:\n",
    "* Small sample size < 30\n",
    "* Not given population standard deviation\n",
    "\n",
    "Formula to use : T distribution"
   ]
  },
  {
   "cell_type": "code",
   "execution_count": 64,
   "id": "f5ecef35",
   "metadata": {},
   "outputs": [
    {
     "name": "stdout",
     "output_type": "stream",
     "text": [
      "10.428571428571429 2.0701966780270626 7\n"
     ]
    },
    {
     "data": {
      "text/plain": [
       "(np.float64(8.513958832715968), np.float64(12.34318402442689))"
      ]
     },
     "execution_count": 64,
     "metadata": {},
     "output_type": "execute_result"
    }
   ],
   "source": [
    "hours = np.array([12, 11, 14, 10, 9, 9, 8])\n",
    "xbar = np.mean(hours)\n",
    "ssig = np.std(hours, ddof=1)\n",
    "n = len(hours)\n",
    "alpha = 1-0.95\n",
    "\n",
    "print(xbar, ssig, n)\n",
    "\n",
    "def t_CI(xbar,sample_std,n,alpha):\n",
    "    '''\n",
    "    Use t scoring for CI\n",
    "    '''\n",
    "    factor = abs(st.t(n-1).ppf(alpha/2)*(sample_std/mth.sqrt(n))) \n",
    "    return (xbar - factor, xbar+factor)\n",
    "\n",
    "\n",
    "t_CI(xbar,ssig,n,alpha)"
   ]
  },
  {
   "cell_type": "markdown",
   "id": "7305dcf6",
   "metadata": {},
   "source": [
    "The confidence interval for the mean at the 95% confidence level is ( 8.513958832715968, 12.34318402442689 )"
   ]
  },
  {
   "cell_type": "markdown",
   "id": "5832b384",
   "metadata": {},
   "source": [
    "# 4.b"
   ]
  },
  {
   "cell_type": "code",
   "execution_count": 3,
   "id": "98e7240b",
   "metadata": {},
   "outputs": [
    {
     "name": "stdout",
     "output_type": "stream",
     "text": [
      "1.2373442457912027 14.44937533544792\n",
      "1.3340210924441342 4.558709951559156\n"
     ]
    }
   ],
   "source": [
    "hours = np.array([12, 11, 14, 10, 9, 9, 8])\n",
    "n = len(hours)\n",
    "mean = np.mean(hours)\n",
    "\n",
    "#sum of square of difference\n",
    "s2 = (12-mean)**2 + (11-mean)**2 + (14 - mean)**2 + (10-mean)**2 + (9-mean)**2 + (9 - mean)**2 + (8 - mean)**2 \n",
    "dof = n-1\n",
    "alpha = 0.05\n",
    "\n",
    "#chi square values at alpha\n",
    "chi2_low = st.chi2.ppf(alpha/2, dof)\n",
    "chi2_hi = st.chi2.ppf(1 - alpha/2, dof)\n",
    "print(chi2_low, chi2_hi)\n",
    "\n",
    "# CI values from sum of square of dif / chi square\n",
    "low = mth.sqrt(s2/chi2_hi)\n",
    "hi =  mth.sqrt(s2/chi2_low)\n",
    "print(low, hi)"
   ]
  },
  {
   "cell_type": "code",
   "execution_count": 73,
   "id": "36e5c477",
   "metadata": {},
   "outputs": [
    {
     "name": "stdout",
     "output_type": "stream",
     "text": [
      "1.7796122750858416 20.781836422444485\n"
     ]
    }
   ],
   "source": [
    "low_var = (s2/chi2_hi)\n",
    "hi_var = (s2/chi2_low)\n",
    "print(low_var, hi_var)"
   ]
  },
  {
   "cell_type": "markdown",
   "id": "b9f71c8f",
   "metadata": {},
   "source": [
    "Confidence interval for standard deviation at the 5% significance level: (1.3339922576796257 4.553825555391873)\n",
    "\n",
    "Confidence interval for varianace at the 5% significance level: (1.7795353435491847 20.737327188940096)"
   ]
  },
  {
   "cell_type": "markdown",
   "id": "9680590a",
   "metadata": {},
   "source": [
    "# 4.c"
   ]
  },
  {
   "cell_type": "markdown",
   "id": "6a70e380",
   "metadata": {},
   "source": [
    "\n",
    "Setup for Hypothesis Test: This is a F test for comparing two variances. \n",
    "\n",
    "$H_0:  var_2 / var_1 = 1  \n",
    "$H_A:  var_2 / var_1 > 1  "
   ]
  },
  {
   "cell_type": "code",
   "execution_count": 78,
   "id": "6e9b5b11",
   "metadata": {},
   "outputs": [
    {
     "name": "stdout",
     "output_type": "stream",
     "text": [
      "The left-sided P-value = 0.09261525343460231\n"
     ]
    }
   ],
   "source": [
    "hours = np.array([12, 11, 14, 10, 9, 9, 8])\n",
    "hours2 = np.array([10, 9, 7, 15, 6, 14, 6])\n",
    "\n",
    "xbar_1 = np.mean(hours)\n",
    "xbar_2 = np.mean(hours2)\n",
    "\n",
    "len_1 = len(hours)\n",
    "len_2 = len(hours2)\n",
    "\n",
    "ssq_1 = np.var(hours, ddof=1)\n",
    "ssq_2 = np.var(hours2, ddof=1)\n",
    "\n",
    "# f observed value is\n",
    "fobs = (ssq_2/ssq_1)\n",
    "\n",
    "# F distribution with degree len_1-1,len_2-1 \n",
    "dist = st.f(len_2-1,len_1-1)\n",
    "\n",
    "p1 = dist.cdf(fobs)\n",
    "\n",
    "p2 = 1-dist.cdf(fobs) # P(F>=Fobs)\n",
    "\n",
    "print(f'The left-sided P-value = {p2}')"
   ]
  },
  {
   "cell_type": "markdown",
   "id": "3970c53d",
   "metadata": {},
   "source": [
    "With 95% confidence level, P value is 9%, higher than alpha of 5%, we cannot reject the null hypothesis and  there is not enough evidence that the variance of the first sample is lower than the second one. "
   ]
  },
  {
   "cell_type": "markdown",
   "id": "db170179",
   "metadata": {},
   "source": [
    "# 5  \n",
    "\n",
    "Assess the evidence that student goals are independent of student gender."
   ]
  },
  {
   "cell_type": "markdown",
   "id": "1ff74fdf",
   "metadata": {},
   "source": [
    "This should be the test of independence using chi square statistic. \n",
    "\n",
    "Setup for Hypothesis Test:\n",
    "\n",
    "- $H_0:$ prob(any response$|$vendor) = prob(any resp)  \n",
    "\n",
    "- $H_A:$ There is some response $res$ s.t. p($res$ $|$ vendor) $\\neq$ $p(res)$"
   ]
  },
  {
   "cell_type": "code",
   "execution_count": null,
   "id": "c0961816",
   "metadata": {},
   "outputs": [
    {
     "name": "stdout",
     "output_type": "stream",
     "text": [
      "227 251 478\n",
      "Total by goal are [247 141  90]\n",
      "Exp_B is [117.29916318  66.96025105  42.74058577] Exp_G is [129.70083682  74.03974895  47.25941423]\n",
      "11.266257545635575 10.189005828124603\n",
      "The Chi2_obs is = 21.45526337376018 | The p-value = 0.00025719295764514705\n"
     ]
    }
   ],
   "source": [
    "# input data\n",
    "B = np.array([117, 50, 60])\n",
    "G = np.array([130, 91, 30])\n",
    "\n",
    "# total number of boys, and total number of girls\n",
    "nB,nG = np.sum(B),np.sum(G)\n",
    "\n",
    "# grand total\n",
    "total = nB + nG\n",
    "print(nB,nG,total)\n",
    "\n",
    "# total number of each goal \n",
    "nGoal = B + G\n",
    "print('Total by goal are', nGoal)\n",
    "\n",
    "# expect of each (i,j) is nB * nGoal / total\n",
    "expB = (nB*nGoal)/total\n",
    "expG = (nG*nGoal)/total\n",
    "print('Exp_B is',expB,'Exp_G is',expG)\n",
    "\n",
    "# chi square of B ans chi square of G\n",
    "ssqB = np.sum((B - expB)**2/expB)\n",
    "ssqG = np.sum((G - expG)**2/expG)\n",
    "print(ssqB,ssqG)\n",
    "\n",
    "#final chi square is sum \n",
    "chi2obs = ssqB + ssqG\n",
    "\n",
    "## remember that  dof = (#col - 1) * (nrows - 1)\n",
    "dof = (len(B) - 1) * (len(G) - 1)\n",
    "\n",
    "pval = 1 - st.chi2(dof).cdf(chi2obs)\n",
    "\n",
    "print(f'The Chi2_obs is = {chi2obs}', f'| The p-value = {pval}')"
   ]
  },
  {
   "cell_type": "markdown",
   "id": "890cd41d",
   "metadata": {},
   "source": [
    "P_value is close to zero so there is sufficient evidence to reject the null hypothesis and accept that student goals are not independent of student gender. "
   ]
  },
  {
   "cell_type": "markdown",
   "id": "48eca0a1",
   "metadata": {},
   "source": [
    "# 6\n",
    "\n",
    "0 2 4 6 8 10 12 14 16 18 20 22\n",
    "\n",
    "\n",
    "7.5 10.3 12.7 14.9 16.8 18.5 19.9 21.3 22.5 23.6 24.5 25.2\n",
    "\n",
    "Construct a scatter plot of the weight data, and find the correlation coefficient between the two variables.\n",
    "b. (10 pts) Perform a simple linear regression of weight on age:\n",
    "\n",
    "\n",
    "i.e., fit the coefficients of such linear model to the data. Then, compute the \n",
    " measure of fit for your model. Plot the data and the regression line.\n",
    "c. (5 pts)  Find a quadratic model that best fits the data. Give the coefficients, compute and compare the \n",
    " with the previous model. Plot the data and the new regression line.\n",
    "d. (5 pts) Predict the weight at 24 months using both the linear model and the quadratic model."
   ]
  },
  {
   "cell_type": "markdown",
   "id": "c4e0b493",
   "metadata": {},
   "source": [
    "# 6.a"
   ]
  },
  {
   "cell_type": "code",
   "execution_count": 56,
   "id": "ee0f7d90",
   "metadata": {},
   "outputs": [
    {
     "data": {
      "image/png": "[encoded data removed]",
      "text/plain": [
       "<Figure size 640x480 with 1 Axes>"
      ]
     },
     "metadata": {},
     "output_type": "display_data"
    }
   ],
   "source": [
    "age = np.array([0, 2, 4, 6, 8, 10, 12, 14, 16, 18, 20, 22])\n",
    "weight = np.array([7.5, 10.3, 12.7, 14.9, 16.8, 18.5, 19.9, 21.3, 22.5, 23.6, 24.5, 25.2]) \n",
    "\n",
    "# draw scatter plot\n",
    "_ = plt.scatter(age ,weight)"
   ]
  },
  {
   "cell_type": "markdown",
   "id": "34e3e1cb",
   "metadata": {},
   "source": [
    "sample covariance & sample correlation coefficent\n",
    ">$\n",
    "  r = \\dfrac{\\operatorname{Cov}(X,Y)}{s_X s_Y}\n",
    "$"
   ]
  },
  {
   "cell_type": "code",
   "execution_count": 57,
   "id": "b4102930",
   "metadata": {},
   "outputs": [
    {
     "name": "stdout",
     "output_type": "stream",
     "text": [
      "41.06363636363637\n",
      "0.9833409507486053\n"
     ]
    }
   ],
   "source": [
    "# sample covariance\n",
    "scov = np.cov(age, weight )[0,1]\n",
    "print(scov)\n",
    "\n",
    "# sample correlation coefficent \n",
    "sample_r = scov/(np.std(age ,ddof=1)*np.std(weight ,ddof=1))\n",
    "print(sample_r)"
   ]
  },
  {
   "cell_type": "markdown",
   "id": "da54c4f8",
   "metadata": {},
   "source": [
    "# 6.b"
   ]
  },
  {
   "cell_type": "code",
   "execution_count": 58,
   "id": "1e109386",
   "metadata": {},
   "outputs": [
    {
     "name": "stdout",
     "output_type": "stream",
     "text": [
      "Coef B0: 9.455128205128204\n",
      "Coef B1: 0.7896853146853149\n",
      "R-squared: 0.9669594254191709\n"
     ]
    }
   ],
   "source": [
    "#construct regression linear system\n",
    "A=[ [a, 1] for a in age ]\n",
    "\n",
    "#coef\n",
    "coef, *_ = la.lstsq(A, weight)\n",
    "\n",
    "print(\"Coef B0:\", coef[1])\n",
    "print(\"Coef B1:\", coef[0])\n",
    "\n",
    "mean_weight = np.mean(weight)\n",
    "\n",
    "# Calculate predicted y values\n",
    "y_pred = [coef[0] * a + coef[1] for a in age]\n",
    "\n",
    "# Calculate sum of square of dif between predicted and mean\n",
    "ss_reg = np.sum((y_pred - mean_weight) ** 2)  \n",
    "\n",
    "# Calculate sum of square of dif between real values and mean\n",
    "ss_total = np.sum((weight - mean_weight) ** 2)  \n",
    "\n",
    "# R square value \n",
    "r2 = ss_reg / ss_total \n",
    "print(f\"R-squared: {r2}\")"
   ]
  },
  {
   "cell_type": "code",
   "execution_count": 59,
   "id": "bfa93628",
   "metadata": {},
   "outputs": [
    {
     "data": {
      "image/png": "[encoded data removed]",
      "text/plain": [
       "<Figure size 640x480 with 1 Axes>"
      ]
     },
     "metadata": {},
     "output_type": "display_data"
    }
   ],
   "source": [
    "_ = plt.scatter(age ,weight)\n",
    "_ = plt.plot(age, y_pred)"
   ]
  },
  {
   "cell_type": "code",
   "execution_count": 61,
   "id": "8e463ad3",
   "metadata": {},
   "outputs": [
    {
     "data": {
      "text/plain": [
       "np.float64(28.407575757575763)"
      ]
     },
     "execution_count": 61,
     "metadata": {},
     "output_type": "execute_result"
    }
   ],
   "source": [
    "result_24 = coef[0] * 24 + coef[1] \n",
    "result_24"
   ]
  },
  {
   "cell_type": "markdown",
   "id": "eef78538",
   "metadata": {},
   "source": [
    "The weight at 24 months using the linear model is 28.4"
   ]
  },
  {
   "cell_type": "markdown",
   "id": "423d30c2",
   "metadata": {},
   "source": [
    "# 6.c"
   ]
  },
  {
   "cell_type": "code",
   "execution_count": null,
   "id": "1db6ea42",
   "metadata": {},
   "outputs": [
    {
     "name": "stdout",
     "output_type": "stream",
     "text": [
      "Coef 1: -0.023720029970029897\n",
      "Coef 2: 1.3115259740259761\n",
      "Coef 3: 7.715659340659329\n",
      "R-squared: 0.9995301456603155\n"
     ]
    }
   ],
   "source": [
    "#construct regression linear system\n",
    "A=[ [a**2, a, 1] for a in age ]\n",
    "\n",
    "#coef\n",
    "coef, *_ = la.lstsq(A,weight)\n",
    "\n",
    "print(\"Coef 1:\", coef[0])\n",
    "print(\"Coef 2:\", coef[1])\n",
    "print(\"Coef 3:\", coef[2])\n",
    "\n",
    "# Calculate predicted y values\n",
    "y_pred = [coef[0] * a**2 + coef[1] * a + coef[2] for a in age]\n",
    "\n",
    "# Calculate sum of square of dif between predicted and mean\n",
    "ss_reg = np.sum((y_pred - mean_weight) ** 2)  \n",
    "\n",
    "# Calculate sum of square of dif between real values and mean\n",
    "ss_total = np.sum((weight - mean_weight) ** 2)\n",
    "\n",
    "r2 = ss_reg / ss_total \n",
    "print(f\"R-squared: {r2}\")"
   ]
  },
  {
   "cell_type": "markdown",
   "id": "a97fcdbb",
   "metadata": {},
   "source": [
    "R-squared in 6.b is : 0.9669594254191709\n",
    "\n",
    "R-squared in 6.c is : 0.9995301456603155 > than R square in 6.b suggests 6.c is a better fit regression than 6.b."
   ]
  },
  {
   "cell_type": "code",
   "execution_count": 53,
   "id": "1903b47d",
   "metadata": {},
   "outputs": [
    {
     "data": {
      "image/png": "[encoded data removed]",
      "text/plain": [
       "<Figure size 640x480 with 1 Axes>"
      ]
     },
     "metadata": {},
     "output_type": "display_data"
    }
   ],
   "source": [
    "_ = plt.scatter(age ,weight)\n",
    "_ = plt.plot(age, y_pred)"
   ]
  },
  {
   "cell_type": "code",
   "execution_count": 54,
   "id": "9743a96c",
   "metadata": {},
   "outputs": [
    {
     "data": {
      "text/plain": [
       "np.float64(25.529545454545538)"
      ]
     },
     "execution_count": 54,
     "metadata": {},
     "output_type": "execute_result"
    }
   ],
   "source": [
    "result_24 = coef[0] * 24**2 + coef[1] * 24 + coef[2]\n",
    "result_24"
   ]
  },
  {
   "cell_type": "markdown",
   "id": "622c25d7",
   "metadata": {},
   "source": [
    "The weight at 24 months using the quadratic model is 25.5"
   ]
  },
  {
   "cell_type": "markdown",
   "id": "4c153ba1",
   "metadata": {},
   "source": [
    "# 7\n",
    "\n",
    "[BONUS] (10 pts) A logistic company ships packages in containers. Suppose that each package weights \n",
    " kilograms, a random variable that follows an exponential distribution with parameter \n",
    ". If the company has to load a container with \n",
    " packages, what is the probability that the total weight is greater than or equal than 210 kilograms?"
   ]
  },
  {
   "cell_type": "markdown",
   "id": "e4922082",
   "metadata": {},
   "source": [
    "The probablity distribution discussed is Gamma with k =100 and theta = 1/lamda. "
   ]
  },
  {
   "cell_type": "code",
   "execution_count": 4,
   "id": "b43955f5",
   "metadata": {},
   "outputs": [
    {
     "name": "stdout",
     "output_type": "stream",
     "text": [
      "200.0 2.0\n"
     ]
    },
    {
     "data": {
      "text/plain": [
       "np.float64(0.0)"
      ]
     },
     "execution_count": 4,
     "metadata": {},
     "output_type": "execute_result"
    }
   ],
   "source": [
    "k = 100\n",
    "lamda = 1/2\n",
    "theta = 1/lamda\n",
    "dist = st.gamma(a=k, scale=1/theta) \n",
    "e = k * theta\n",
    "print(e, theta)\n",
    "# probabilty that weight is greater or equal to 210 kilograms\n",
    "1-dist.cdf(210)"
   ]
  },
  {
   "cell_type": "markdown",
   "id": "07536588",
   "metadata": {},
   "source": [
    "Probabilty that weight is greater or equal to 210 kilograms is close to zero."
   ]
  }
 ],
 "metadata": {
  "kernelspec": {
   "display_name": "Python 3",
   "language": "python",
   "name": "python3"
  },
  "language_info": {
   "codemirror_mode": {
    "name": "ipython",
    "version": 3
   },
   "file_extension": ".py",
   "mimetype": "text/x-python",
   "name": "python",
   "nbconvert_exporter": "python",
   "pygments_lexer": "ipython3",
   "version": "3.13.2"
  }
 },
 "nbformat": 4,
 "nbformat_minor": 5
}
