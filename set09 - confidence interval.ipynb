{
 "cells": [
  {
   "cell_type": "markdown",
   "metadata": {},
   "source": [
    "\n",
    "# Problem Set 9\n",
    "Holly Do"
   ]
  },
  {
   "cell_type": "code",
   "execution_count": 2,
   "metadata": {},
   "outputs": [],
   "source": [
    "import random as rnd\n",
    "import math as mth\n",
    "import statistics as sts\n",
    "import numpy as np\n",
    "import scipy as sci\n",
    "import scipy.linalg as la\n",
    "import scipy.stats as st\n",
    "import scipy.special as spp\n",
    "import matplotlib.pyplot as plt\n",
    "import sympy as sy\n",
    "import stemgraphic as stm\n",
    "\n",
    "import itertools as it\n",
    "import operator as op"
   ]
  },
  {
   "cell_type": "code",
   "execution_count": 3,
   "metadata": {},
   "outputs": [],
   "source": [
    "# Confidence interval of Z distribution\n",
    "def z_CI(xbar,sigma,n,alpha):\n",
    "    '''\n",
    "    xbar is the estimate for mu\n",
    "    sigma is the standard deviation\n",
    "    alpha is the significance level\n",
    "    '''\n",
    "    factor = abs(st.norm.ppf(alpha/2)*(sigma/mth.sqrt(n)))\n",
    "    return (xbar - factor, xbar+factor)"
   ]
  },
  {
   "cell_type": "code",
   "execution_count": 4,
   "metadata": {},
   "outputs": [],
   "source": [
    "# Confidence interval of T distribution\n",
    "def t_CI(xbar,sample_std,n,alpha):\n",
    "    '''\n",
    "    Use t scoring for CI\n",
    "    '''\n",
    "    factor = abs(st.t(n-1).ppf(alpha/2)*(sample_std/mth.sqrt(n))) #difference is (n-1)\n",
    "    return (xbar - factor, xbar+factor)"
   ]
  },
  {
   "cell_type": "code",
   "execution_count": 5,
   "metadata": {},
   "outputs": [],
   "source": [
    "### Define function for this CI\n",
    "def z_CI_diff_p(p1,p2,n1,n2,alpha):\n",
    "    '''\n",
    "    z-score CI for difference of proportions\n",
    "    '''\n",
    "    pdiff = p1 - p2\n",
    "    adj_std = mth.sqrt((p1*(1-p1)/n1) + (p2*(1-p2)/n2))\n",
    "    factor = abs(st.norm.ppf(alpha/2)*adj_std)\n",
    "    return (pdiff - factor, pdiff+factor)"
   ]
  },
  {
   "cell_type": "markdown",
   "metadata": {},
   "source": [
    "# 1.1"
   ]
  },
  {
   "cell_type": "code",
   "execution_count": 6,
   "metadata": {},
   "outputs": [],
   "source": [
    "prob1 = np.array([3, 3, 3, 3, 3, 7, 7, 7])"
   ]
  },
  {
   "cell_type": "code",
   "execution_count": 7,
   "metadata": {},
   "outputs": [
    {
     "data": {
      "text/plain": [
       "np.float64(4.5)"
      ]
     },
     "execution_count": 7,
     "metadata": {},
     "output_type": "execute_result"
    }
   ],
   "source": [
    "np.mean(prob1)"
   ]
  },
  {
   "cell_type": "markdown",
   "metadata": {},
   "source": [
    "\n",
    "Method of Moments for $\\theta$ :  \n",
    "How many moments are needed for 1 parameter?\n",
    "For distribution that has 1 parameter, we need one moment. \n",
    "\n",
    "Formula for moment? Formular for moment is the formular of the mean of the distribution.  \n",
    ">$\n",
    "   \\mu = 3 \\theta + 7 (1-\\theta)\n",
    "$\n",
    "\n",
    "Sample mean = $4.5$\n",
    "\n",
    "Estimate for $\\theta$ \n",
    ">$\n",
    "    3 \\theta + 7 (1-\\theta) = 4.5\n",
    "$\n",
    ">$\n",
    "    -4 \\theta +7 = 4.5\n",
    "$\n",
    ">$\n",
    "    \\theta = \\dfrac{7-4.5}{4} = .625\n",
    "$\n"
   ]
  },
  {
   "cell_type": "markdown",
   "metadata": {},
   "source": [
    "# 1.2\n",
    "Maximum Likelyhood Estimator for $\\theta$ :\n",
    "  \n",
    "  \n",
    "Likelihood function is the probability function of the sample collected: $\\mathcal{L}(\\theta) = \\theta^5 (1-\\theta)^3$  \n",
    "Log-Likelihood $L(\\theta) = 5 \\log(\\theta) + 3 \\log(1-\\theta)$\n",
    "\n",
    "To find the max of the probablity of the product, because the log function is increasing, we can use the maximum of the log-likelihood function.\n",
    "  \n",
    "Set derivative = 0 (maximize likelihood)  \n",
    ">$\n",
    "\\dfrac{dL}{d\\theta} = \\dfrac{5}{\\theta} - \\dfrac{3}{1-\\theta}\n",
    "$  \n",
    "\n",
    ">$\n",
    "\\dfrac{5}{\\theta} - \\dfrac{3}{1-\\theta} = 0\n",
    "$\n",
    "\n",
    ">$\n",
    "5 - 5\\theta - 3\\theta = 0, \\theta = \\frac{5}{8}\n",
    "$\n",
    "\n",
    "\n",
    "\n"
   ]
  },
  {
   "cell_type": "markdown",
   "metadata": {},
   "source": [
    "# 2.1"
   ]
  },
  {
   "cell_type": "markdown",
   "metadata": {},
   "source": [
    "Given:\n",
    "* 100 samples > 50 threshold, so Central Limit Theorem says the mean is normally distributed\n",
    "* Given a valid population standard deviation $\\sigma$\n",
    "\n",
    "Formula to use : Z distribution"
   ]
  },
  {
   "cell_type": "code",
   "execution_count": 8,
   "metadata": {},
   "outputs": [],
   "source": [
    "## define a function for type of CI\n",
    "\n",
    "def z_CI(xbar,sigma,n,alpha):\n",
    "    '''\n",
    "    xbar is the estimate for mu\n",
    "    sigma is the standard deviation\n",
    "    alpha is the significance level\n",
    "    '''\n",
    "    #find a at alpha/2 in standard normal (aka Z score), scale to standard error of the mean (population std / square root n)\n",
    "    factor = abs(st.norm.ppf(alpha/2)*(sigma/mth.sqrt(n)))\n",
    "    #rang (sample_mean - margin of error, sample_mean + margin of error)\n",
    "    return (xbar - factor, xbar+factor)"
   ]
  },
  {
   "cell_type": "code",
   "execution_count": 9,
   "metadata": {},
   "outputs": [
    {
     "data": {
      "text/plain": [
       "(np.float64(36.186734663204646), np.float64(39.21326533679536))"
      ]
     },
     "execution_count": 9,
     "metadata": {},
     "output_type": "execute_result"
    }
   ],
   "source": [
    "#sample mean\n",
    "xbar = 37.7\n",
    "#pop standardd deviation \n",
    "sigma = 9.2\n",
    "#sample size\n",
    "n = 100\n",
    "#90% confident CI meaning significance level is 10%\n",
    "alpha = 1 - .9\n",
    "#calculate factor and return 90% confident CI\n",
    "z_CI(xbar,sigma,n,alpha)"
   ]
  },
  {
   "cell_type": "markdown",
   "metadata": {},
   "source": [
    "# 2.2"
   ]
  },
  {
   "cell_type": "code",
   "execution_count": 9,
   "metadata": {},
   "outputs": [
    {
     "data": {
      "text/plain": [
       "(np.float64(35.330237040735014), np.float64(40.06976295926499))"
      ]
     },
     "execution_count": 9,
     "metadata": {},
     "output_type": "execute_result"
    }
   ],
   "source": [
    "## compute CI with 0.01 sig\n",
    "alpha = .01\n",
    "z_CI(xbar,sigma,n,alpha)"
   ]
  },
  {
   "cell_type": "markdown",
   "metadata": {},
   "source": [
    "Since the CI is (35.33 to 40.07) and the value 35 falls inside this range, there is not significant evidence that the mean is greater than 35 at the 1% significance level."
   ]
  },
  {
   "cell_type": "markdown",
   "metadata": {},
   "source": [
    "# 3.1"
   ]
  },
  {
   "cell_type": "markdown",
   "metadata": {},
   "source": [
    "Given: \n",
    "* Underlying dist is normal ==> mean is normal\n",
    "* Given a polulation std $\\sigma$\n",
    "\n",
    "Formula to use : Z distribution"
   ]
  },
  {
   "cell_type": "code",
   "execution_count": 10,
   "metadata": {},
   "outputs": [
    {
     "data": {
      "text/plain": [
       "(np.float64(40.77502250966246), np.float64(43.22497749033754))"
      ]
     },
     "execution_count": 10,
     "metadata": {},
     "output_type": "execute_result"
    }
   ],
   "source": [
    "xbar = 42\n",
    "sigma = 5\n",
    "n = 64\n",
    "alpha = 1 - .95\n",
    "lo,hi = z_CI(xbar,sigma,n,alpha)\n",
    "lo,hi"
   ]
  },
  {
   "cell_type": "markdown",
   "metadata": {},
   "source": [
    "# 3.2"
   ]
  },
  {
   "cell_type": "code",
   "execution_count": 12,
   "metadata": {},
   "outputs": [
    {
     "data": {
      "text/plain": [
       "np.float64(0.17894383251606694)"
      ]
     },
     "execution_count": 12,
     "metadata": {},
     "output_type": "execute_result"
    }
   ],
   "source": [
    "#population mean\n",
    "mean = 40\n",
    "#true distribition given population mean and population std\n",
    "dist3 = st.norm(40,5)\n",
    "#True probabilty of the 3.1 CI interval is the cdf of the high point minus cdf of the low point in CI range of the true distribution. \n",
    "dist3.cdf(hi) - dist3.cdf(lo)"
   ]
  },
  {
   "cell_type": "markdown",
   "metadata": {},
   "source": [
    "The probability that the installation time will be within the interval computed in 3.1 is 17.9%"
   ]
  },
  {
   "cell_type": "markdown",
   "metadata": {},
   "source": [
    "# 4"
   ]
  },
  {
   "cell_type": "markdown",
   "metadata": {},
   "source": [
    "Given:\n",
    "* Small sample size\n",
    "* Unknown population std and variance\n",
    "\n",
    "Formula to use : T distribution"
   ]
  },
  {
   "cell_type": "code",
   "execution_count": 13,
   "metadata": {},
   "outputs": [
    {
     "data": {
      "text/plain": [
       "(np.float64(16.282910783038318), np.float64(83.71708921696168))"
      ]
     },
     "execution_count": 13,
     "metadata": {},
     "output_type": "execute_result"
    }
   ],
   "source": [
    "def t_CI(xbar,sample_std,n,alpha):\n",
    "    '''\n",
    "    Use t scoring for CI\n",
    "    '''\n",
    "    factor = abs(st.t(n-1).ppf(alpha/2)*(sample_std/mth.sqrt(n))) #difference is (n-1)\n",
    "    return (xbar - factor, xbar+factor)\n",
    "\n",
    "sal = np.array([30,50,70])\n",
    "xbar = np.mean(sal)\n",
    "ssig = np.std(sal, ddof=1) # T-dist corrected sample std - one time only - When estimating s from the sample, the sample standard deviation itself uses n−1 in its formula for variance\n",
    "n = len(sal)\n",
    "alpha = .1\n",
    "\n",
    "t_CI(xbar,ssig,n,alpha)"
   ]
  },
  {
   "cell_type": "markdown",
   "metadata": {},
   "source": [
    "At at a 10% level of significance, value 80 falls inside the CI range(16.29 to 83.72) so there is not sufficient evidence that the average salary is different from 80 (in $1000s)."
   ]
  },
  {
   "cell_type": "markdown",
   "metadata": {},
   "source": [
    "# 5.1"
   ]
  },
  {
   "cell_type": "markdown",
   "metadata": {},
   "source": [
    "Given:\n",
    "* Large sample size of 200\n",
    "* Proportion problem\n",
    "\n",
    "Formula to use : Z distribution"
   ]
  },
  {
   "cell_type": "code",
   "execution_count": 14,
   "metadata": {},
   "outputs": [
    {
     "data": {
      "text/plain": [
       "(np.float64(0.07280844289046505), np.float64(0.16719155710953493))"
      ]
     },
     "execution_count": 14,
     "metadata": {},
     "output_type": "execute_result"
    }
   ],
   "source": [
    "#sample mean is p\n",
    "phat = 24 / 200\n",
    "n = 200\n",
    "#significance is 1 - confidence\n",
    "alpha = 1 - .96\n",
    "\n",
    "#Because the test is a series of bernoulli trials, sample standard deviation is sqrt(p * (1-p)) \n",
    "sigma = mth.sqrt(phat*(1-phat))\n",
    "\n",
    "lo, hi = z_CI(phat,sigma,n,alpha)\n",
    "lo, hi"
   ]
  },
  {
   "cell_type": "markdown",
   "metadata": {},
   "source": [
    "# 5.2"
   ]
  },
  {
   "cell_type": "markdown",
   "metadata": {},
   "source": [
    "Given:\n",
    "* Probablity of defective items is <= 0.1\n",
    "* CI at 4% level of significance is (0.073 to 0.167)\n",
    "\n",
    "The manufacturer claims that at most one in 10 items in the shipment is defective. At the 4% level of significance, the given proportion value 0.1 falls inside the CI range, thus there is not sufficient to disprove the claim or to prove that the true proportion is different than 0.1."
   ]
  },
  {
   "cell_type": "markdown",
   "metadata": {},
   "source": [
    "# 5.3"
   ]
  },
  {
   "cell_type": "code",
   "execution_count": 15,
   "metadata": {},
   "outputs": [
    {
     "data": {
      "text/plain": [
       "(np.float64(0.086922085134124), np.float64(0.153077914865876))"
      ]
     },
     "execution_count": 15,
     "metadata": {},
     "output_type": "execute_result"
    }
   ],
   "source": [
    "#sample mean is p\n",
    "phat = 24 / 200\n",
    "n = 200\n",
    "alpha = 0.15\n",
    "sigma = mth.sqrt(phat*(1-phat))\n",
    "\n",
    "lo, hi = z_CI(phat,sigma,n,alpha)\n",
    "lo, hi"
   ]
  },
  {
   "cell_type": "markdown",
   "metadata": {},
   "source": [
    "Given:\n",
    "* Probablity of defective items is <= 0.1\n",
    "* CI at 4% level of significance is (0.087 to 0.153)\n",
    "\n",
    "At the 15% level of significance, the given proportion value 0.1 falls inside the CI range, thus there is not sufficient to disprove the claim or to prove that the true proportion is different than 0.1."
   ]
  },
  {
   "cell_type": "markdown",
   "metadata": {},
   "source": [
    "# 6.1"
   ]
  },
  {
   "cell_type": "markdown",
   "metadata": {},
   "source": [
    "Given:\n",
    "* Underlying normal distribution\n",
    "* Large sample size of 52\n",
    "* Population standard deviation is not given \n",
    "\n",
    "\n",
    "Formula to use : T distribution"
   ]
  },
  {
   "cell_type": "code",
   "execution_count": 15,
   "metadata": {},
   "outputs": [
    {
     "data": {
      "text/plain": [
       "(np.float64(0.5922819235130065), np.float64(0.6477180764869935))"
      ]
     },
     "execution_count": 15,
     "metadata": {},
     "output_type": "execute_result"
    }
   ],
   "source": [
    "xbar = 0.62\n",
    "sigma = 0.2\n",
    "n - 52\n",
    "alpha = 1-0.95\n",
    "\n",
    "lo, hi = z_CI(xbar,sigma,n,alpha)\n",
    "lo, hi"
   ]
  },
  {
   "cell_type": "markdown",
   "metadata": {},
   "source": [
    "# 6.2"
   ]
  },
  {
   "cell_type": "code",
   "execution_count": 16,
   "metadata": {},
   "outputs": [
    {
     "data": {
      "text/plain": [
       "np.float64(0.23542084099531557)"
      ]
     },
     "execution_count": 16,
     "metadata": {},
     "output_type": "execute_result"
    }
   ],
   "source": [
    "# The mean's std or standard error = poplation std / square root n\n",
    "std = .2\n",
    "n = 52\n",
    "xbar_std = std/mth.sqrt(n)\n",
    "\n",
    "# Distribution of resistance is normal with population mean 0.6 \n",
    "mu = .6\n",
    "\n",
    "# Distrution of the MEAN of resistance has mean is the same mean of 0.6 and the standard error calculated above\n",
    "d = st.norm(mu,xbar_std)\n",
    "\n",
    "# The probability that an average of 52 resistances is 0.62 ohms or higher is 1 minus the cummulative probabilty that resistances is less than 0.62\n",
    "1 - d.cdf(.62)"
   ]
  },
  {
   "cell_type": "markdown",
   "metadata": {},
   "source": [
    "The probability that an average of 52 resistances is 0.62 ohms or higher is 23.5%"
   ]
  },
  {
   "cell_type": "markdown",
   "metadata": {},
   "source": [
    "# 7"
   ]
  },
  {
   "cell_type": "markdown",
   "metadata": {},
   "source": [
    "Given:\n",
    "* Large sample sizes of 72 and 100\n",
    "* Proportion problem\n",
    "\n",
    "Formula to use : Z distribution"
   ]
  },
  {
   "cell_type": "code",
   "execution_count": 1,
   "metadata": {},
   "outputs": [
    {
     "ename": "NameError",
     "evalue": "name 'mth' is not defined",
     "output_type": "error",
     "traceback": [
      "\u001b[31m---------------------------------------------------------------------------\u001b[39m",
      "\u001b[31mNameError\u001b[39m                                 Traceback (most recent call last)",
      "\u001b[36mCell\u001b[39m\u001b[36m \u001b[39m\u001b[32mIn[1]\u001b[39m\u001b[32m, line 22\u001b[39m\n\u001b[32m     20\u001b[39m phatB = voteB/nB\n\u001b[32m     21\u001b[39m alpha = \u001b[32m1\u001b[39m-\u001b[32m.95\u001b[39m\n\u001b[32m---> \u001b[39m\u001b[32m22\u001b[39m \u001b[43mz_CI_diff_p\u001b[49m\u001b[43m(\u001b[49m\u001b[43mphatA\u001b[49m\u001b[43m,\u001b[49m\u001b[43mphatB\u001b[49m\u001b[43m,\u001b[49m\u001b[43mnA\u001b[49m\u001b[43m,\u001b[49m\u001b[43mnB\u001b[49m\u001b[43m,\u001b[49m\u001b[43malpha\u001b[49m\u001b[43m)\u001b[49m\n",
      "\u001b[36mCell\u001b[39m\u001b[36m \u001b[39m\u001b[32mIn[1]\u001b[39m\u001b[32m, line 10\u001b[39m, in \u001b[36mz_CI_diff_p\u001b[39m\u001b[34m(p1, p2, n1, n2, alpha)\u001b[39m\n\u001b[32m      7\u001b[39m pdiff = p1 - p2\n\u001b[32m      9\u001b[39m \u001b[38;5;66;03m#std of difference of two proportions with variance = p *(1-p)\u001b[39;00m\n\u001b[32m---> \u001b[39m\u001b[32m10\u001b[39m adj_std = \u001b[43mmth\u001b[49m.sqrt((p1*(\u001b[32m1\u001b[39m-p1)/n1) + (p2*(\u001b[32m1\u001b[39m-p2)/n2))\n\u001b[32m     12\u001b[39m factor = \u001b[38;5;28mabs\u001b[39m(st.norm.ppf(alpha/\u001b[32m2\u001b[39m) * adj_std)\n\u001b[32m     13\u001b[39m \u001b[38;5;28;01mreturn\u001b[39;00m (pdiff - factor, pdiff+factor)\n",
      "\u001b[31mNameError\u001b[39m: name 'mth' is not defined"
     ]
    }
   ],
   "source": [
    "### Define function for this CI\n",
    "def z_CI_diff_p(p1,p2,n1,n2,alpha):\n",
    "    '''\n",
    "    z-score CI for difference of proportions\n",
    "    '''\n",
    "    #differnce of two proportions\n",
    "    pdiff = p1 - p2\n",
    "    \n",
    "    #std of difference of two proportions with variance = p *(1-p)\n",
    "    adj_std = mth.sqrt((p1*(1-p1)/n1) + (p2*(1-p2)/n2))\n",
    "\n",
    "    factor = abs(st.norm.ppf(alpha/2) * adj_std)\n",
    "    return (pdiff - factor, pdiff+factor)\n",
    "\n",
    "nA = 70\n",
    "nB = 100\n",
    "voteA = 42\n",
    "voteB = 59\n",
    "phatA = voteA/nA\n",
    "phatB = voteB/nB\n",
    "alpha = 1-.95\n",
    "z_CI_diff_p(phatA,phatB,nA,nB,alpha)"
   ]
  },
  {
   "cell_type": "markdown",
   "metadata": {},
   "source": [
    "The difference in support that this candidate is between -14%  to 16% with 95% confidence."
   ]
  },
  {
   "cell_type": "markdown",
   "metadata": {},
   "source": [
    "# 8.1"
   ]
  },
  {
   "cell_type": "markdown",
   "metadata": {},
   "source": [
    "Given:\n",
    "* Large sample sizes of 250 and 300\n",
    "* Proportion\n",
    "\n",
    "Formula to use : Z distribution"
   ]
  },
  {
   "cell_type": "code",
   "execution_count": 18,
   "metadata": {},
   "outputs": [
    {
     "data": {
      "text/plain": [
       "(np.float64(-0.06299654797362414), np.float64(0.022996547973624146))"
      ]
     },
     "execution_count": 18,
     "metadata": {},
     "output_type": "execute_result"
    }
   ],
   "source": [
    "lot_a = 250\n",
    "def_a = 10\n",
    "lot_b = 300\n",
    "def_b = 18\n",
    "alpha = 1 - 0.98\n",
    "phat_a = 10/250\n",
    "phat_b = 18/300\n",
    "z_CI_diff_p(phat_a,phat_b, lot_a , lot_b ,alpha)"
   ]
  },
  {
   "cell_type": "markdown",
   "metadata": {},
   "source": [
    "A 98% confidence interval for the difference of proportions of defective items is (-0.063 to 0.023)."
   ]
  },
  {
   "cell_type": "markdown",
   "metadata": {},
   "source": [
    "# 8.2"
   ]
  },
  {
   "cell_type": "markdown",
   "metadata": {},
   "source": [
    "At a significance level α = 0.02, there is not a significant difference between the quality of the two lots because the difference of zero falls inside the CI range."
   ]
  },
  {
   "cell_type": "markdown",
   "metadata": {},
   "source": [
    "# 9.1"
   ]
  },
  {
   "cell_type": "code",
   "execution_count": 19,
   "metadata": {},
   "outputs": [],
   "source": [
    "# If we have population sigma, we divide by root n to calculate margin of error "
   ]
  },
  {
   "cell_type": "markdown",
   "metadata": {},
   "source": [
    "Given:\n",
    "* Large sample sizes of 900\n",
    "* proportion problem\n",
    "\n",
    "Formula to use : Z distribution"
   ]
  },
  {
   "cell_type": "code",
   "execution_count": 20,
   "metadata": {},
   "outputs": [
    {
     "name": "stdout",
     "output_type": "stream",
     "text": [
      "0.032502325696646454 0.031161441303635233 0.04502706519206852\n"
     ]
    }
   ],
   "source": [
    "p_a = 0.45\n",
    "p_b = 0.35\n",
    "n_a = 900\n",
    "n_b = 900\n",
    "\n",
    "dif = p_a - p_b\n",
    "\n",
    "alpha = 1-0.95\n",
    "\n",
    "std_a = mth.sqrt( p_a * (1-p_a) )\n",
    "std_b = mth.sqrt( p_b * (1-p_b) )\n",
    "\n",
    "dif_std = mth.sqrt((p_a * (1-p_a)/n_a) + p_b * (1-p_b)/n_b)\n",
    "\n",
    "margin_error_a = abs(st.norm.ppf(alpha/2) * std_a/mth.sqrt(n_a) )\n",
    "margin_error_b = abs(st.norm.ppf(alpha/2) * std_b/mth.sqrt(n_b))\n",
    "\n",
    "margin_error_dif = abs(st.norm.ppf(alpha/2) * dif_std)\n",
    "\n",
    "print( margin_error_a, margin_error_b, margin_error_dif)\n",
    "\n"
   ]
  },
  {
   "cell_type": "markdown",
   "metadata": {},
   "source": [
    "Margin of error the news agency should report for each of the listed estimates:\n",
    "45% has margin of error +- 3.25%\n",
    "\n",
    "35% has margin error +- 3.12%\n",
    "\n",
    "10% has margin error +- 4.5%"
   ]
  }
 ],
 "metadata": {
  "kernelspec": {
   "display_name": "Python 3",
   "language": "python",
   "name": "python3"
  },
  "language_info": {
   "codemirror_mode": {
    "name": "ipython",
    "version": 3
   },
   "file_extension": ".py",
   "mimetype": "text/x-python",
   "name": "python",
   "nbconvert_exporter": "python",
   "pygments_lexer": "ipython3",
   "version": "3.13.2"
  }
 },
 "nbformat": 4,
 "nbformat_minor": 2
}
