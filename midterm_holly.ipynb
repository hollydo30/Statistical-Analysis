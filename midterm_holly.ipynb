{
 "cells": [
  {
   "cell_type": "code",
   "execution_count": 2,
   "metadata": {},
   "outputs": [],
   "source": [
    "# First, always use these includes\n",
    "#\n",
    "import random as rnd\n",
    "import math as mth\n",
    "import statistics as sts\n",
    "import numpy as np\n",
    "import scipy as sci\n",
    "import scipy.linalg as la\n",
    "import scipy.stats as st\n",
    "import scipy.special as spp\n",
    "import matplotlib.pyplot as plt\n",
    "import sympy as sy\n",
    "#import stemgraphic as stm\n",
    "\n",
    "import itertools as it\n",
    "import operator as op"
   ]
  },
  {
   "cell_type": "markdown",
   "metadata": {},
   "source": [
    "QUICK ANSWER \n",
    "\n",
    "1.1. \n",
    "\n",
    "S={Red Square, Yellow Circle, Green Triangle, Blue X}\n",
    "\n",
    "1.2.  \n",
    "\n",
    "2^4 = 16\n",
    "\n",
    "2.1. \n",
    "\n",
    "C(52,4) = 270725 \n",
    "\n",
    "2.2. \n",
    "\n",
    "C(4,1) * C(13,4)  / C(52,4) = 715*4 / 270725 = 0.010564 \n",
    "\n",
    "2.3.\n",
    "\n",
    "10 * 4^4 / C(52,4) =  2560 / 270725\n",
    "\n",
    "3.\n",
    "\n",
    "Y = (X*𝜎) + 𝜇\n",
    "\n",
    "4.1. [2 pts] Let W = 4*X + 2*Y - 4. What is σ 2 (W)? \n",
    "\n",
    "VAR(Y) = 1-P / P^2 = 0.69 / 0.0961 = 7.18 \n",
    "\n",
    "VAR(X) = 2^2 = 4\n",
    "\n",
    "VAR(W) = 4^2 * VAR(X) + 2^2 * VAR(Y) = 16 VAR(X) + 4VAR(Y) = 16*4 + 4* 7.18 = 64 + 28.72 = 92.72 \n",
    "\n",
    "4.2. Let Z = 2*X + 3*Y + 100. What is E(Z)? \n",
    "\n",
    "E(Y) = 1/p = 1/0.31\n",
    "E(Z) = 2 E(X) + 3 E(Y) + 100 = 2*3 + 3 * 1/0.31 +100 = 15.6774 +100 = 115.6774 \n",
    "\n",
    "4.3. [2 pts] V = X*Y. What is E(V)? \n",
    "E(V) = E(X) * E(Y) = 3 * 1/0.31 = 9.6774\n",
    "\n",
    "5.1. [1 pt] What is the probability that the driver gets 0 parking tickets in a \n",
    "year? \n",
    "\n",
    "E(X) = poisson\n",
    "rate = 2/YEAR \n",
    "x = st.poisson(2).pmf(0) \n",
    "print(x) \n"
   ]
  },
  {
   "cell_type": "code",
   "execution_count": 27,
   "metadata": {},
   "outputs": [
    {
     "name": "stdout",
     "output_type": "stream",
     "text": [
      "0.1353352832366127\n"
     ]
    }
   ],
   "source": [
    "lamda = 2\n",
    "x = st.poisson(2).pmf(0) \n",
    "print(x) "
   ]
  },
  {
   "cell_type": "markdown",
   "metadata": {},
   "source": [
    "5.2. [2 pts] What is the probability that the driver gets exactly 1 ticket in 2 \n",
    "years?"
   ]
  },
  {
   "cell_type": "code",
   "execution_count": null,
   "metadata": {},
   "outputs": [
    {
     "name": "stdout",
     "output_type": "stream",
     "text": [
      "0.07326255555493673\n"
     ]
    }
   ],
   "source": [
    "#lamda = 2 * 2 = 4\n",
    "x = st.poisson(4).pmf(1) \n",
    "print(x) "
   ]
  },
  {
   "cell_type": "markdown",
   "metadata": {},
   "source": [
    "5.3. [1 pt] What is the average amount of time between tickets? \n",
    "\n",
    "TIME BETWEEN TICKETS IS EXPONENTIAL  \n",
    "\n",
    "E(X) = 1/LAMDA = 1/2 \n",
    "\n",
    "5.4. [1 pt] Let T be the amount of time between tickets. What is var(T)? \n",
    "\n",
    "VAT(T) = 1/ 2^2 = ¼ "
   ]
  },
  {
   "cell_type": "markdown",
   "metadata": {},
   "source": [
    "6.1. [2 pts] What is E(T)? \n",
    "\n",
    "LAMDA = 4GAL/SEC \n",
    "\n",
    "K = 4 \n",
    "\n",
    "GAMMA \n",
    "\n",
    "E(T) = ¼ * 4 = 1 \n",
    "\n",
    "6.2. [3 pts] What is var(T)? \n",
    "\n",
    "LAMDA = 4GAL/SEC \n",
    "\n",
    "K = 4 \n",
    "\n",
    "GAMMA \n",
    "\n",
    "VAR(T) = 4 * 1/16 = 1/4 \n",
    "\n"
   ]
  },
  {
   "cell_type": "markdown",
   "metadata": {},
   "source": [
    "7.1. [1 pts] What is the probability that a Fredonia native makes < 4000?"
   ]
  },
  {
   "cell_type": "code",
   "execution_count": 5,
   "metadata": {},
   "outputs": [
    {
     "name": "stdout",
     "output_type": "stream",
     "text": [
      "0.001349898031630093\n"
     ]
    }
   ],
   "source": [
    "mu=10000\n",
    "std=2000\n",
    "x=4000\n",
    "dist = st.norm(mu, std)\n",
    "result = dist.cdf(4000)\n",
    "print(result)"
   ]
  },
  {
   "cell_type": "markdown",
   "metadata": {},
   "source": [
    "7.2. [4 pts] Suppose a Fredonian native is in the upper 2% of income. What is \n",
    "the lowest income this native can have?\n",
    "1- cdf(x) = 0.02 so y = 0.98"
   ]
  },
  {
   "cell_type": "code",
   "execution_count": 3,
   "metadata": {},
   "outputs": [
    {
     "name": "stdout",
     "output_type": "stream",
     "text": [
      "14107.497821263645\n"
     ]
    }
   ],
   "source": [
    "mu=10000\n",
    "std=2000\n",
    "dist = st.norm(mu, std)\n",
    "y = 0.98\n",
    "result = dist.ppf(y)\n",
    "print(result)"
   ]
  },
  {
   "cell_type": "markdown",
   "metadata": {},
   "source": [
    "NOT SO QUICK ANSWER "
   ]
  },
  {
   "cell_type": "markdown",
   "metadata": {},
   "source": [
    "1.1. [6 pts] If someone tests positive for Flurb chromosome using the 23 \n",
    "Skidoo test, what is the probability that the test subject actually has the \n",
    "chromosome? \n",
    "\n",
    "P(d+) = 0.14%\n",
    "\n",
    "P(d-) = 99.86%\n",
    "\n",
    "true-pos = 100%\n",
    "\n",
    "false_neg = 0%\n",
    "\n",
    "false_pos = 1.2%\n",
    "\n",
    "true_neg = 98.8%\n",
    "\n",
    "\n",
    "P(d+|t+) = P(t+|d+) * P(d+) / P(t+) \n",
    "\n",
    "= P(t+|d+) * P(d+)      /      P(t+|d+)+P(t+|d-) \n",
    "\n",
    "= 100% * 0.14%  /  (100% * 0.14% + 99.86% * 1.2%)  = 0.0014 /(0.0014+0.0119832) = 0.0014 / 0.01338 = 0.1046 "
   ]
  },
  {
   "cell_type": "markdown",
   "metadata": {},
   "source": [
    "1.2. [9 pts] Suppose a test subject who tested positive for Flurb chromosome \n",
    "takes a second test. The second test is also positive. What is the \n",
    "probability that the test subject actually has the Flurb chromosome? \n",
    "\n",
    "P(d+) = 10.46%\n",
    "\n",
    "P(d-) = 89.54%\n",
    "\n",
    "true-pos = 100%\n",
    "\n",
    "false_neg = 0%\n",
    "\n",
    "false_pos = 1.2%\n",
    "\n",
    "true_neg = 98.8%\n",
    "\n",
    "\n",
    "P(d+|t+) = P(t+|d+) * P(d+) / P(t+) \n",
    "\n",
    "= P(t+|d+) * P(d+)      /      P(t+|d+)+P(t+|d-) \n",
    "\n",
    "= 0.1046 / (0.1046 + 0.0107448) = 0.9068 "
   ]
  },
  {
   "cell_type": "markdown",
   "metadata": {},
   "source": [
    "2.1. [7 pts] \n",
    "\n",
    "![alt text](<Screenshot 2025-03-13 232258-1.png>)\n",
    "\n",
    "\n",
    "Draw a grid like above and divide each section into three zones, the count the boxes minus the 1 box that is counted twice. \n",
    "\n",
    "What is the probability that the oldest child is a boy? \n",
    "\n",
    "3+3+3-1 / 3+3+3+3-1 = 8/11 \n",
    "\n",
    "2.2. [8 pts] What is the probability that the other child is a girl? \n",
    "\n",
    "3+3/11 = 6/11 "
   ]
  },
  {
   "cell_type": "markdown",
   "metadata": {},
   "source": [
    "3.1 A coin is flipped 100 times. It comes up heads 67 times. \n",
    " If we assume that the probability of getting a head on any given flip \n",
    "is 0.5, what is the probability of getting 67 heads or more? \n",
    "\n",
    "Binomial  \n",
    "\n",
    "N = 100 \n",
    "\n",
    "P= 0.5  "
   ]
  },
  {
   "cell_type": "code",
   "execution_count": 36,
   "metadata": {},
   "outputs": [
    {
     "name": "stdout",
     "output_type": "stream",
     "text": [
      "0.00020438858371341073\n"
     ]
    }
   ],
   "source": [
    "n = 100\n",
    "p = 0.5\n",
    "dist = st.binom(n=n, p=p)\n",
    "result = 1 - dist.cdf(67)\n",
    "print(result)"
   ]
  },
  {
   "cell_type": "code",
   "execution_count": 15,
   "metadata": {},
   "outputs": [
    {
     "name": "stdout",
     "output_type": "stream",
     "text": [
      "0.00023247133474277806\n"
     ]
    }
   ],
   "source": [
    "n = 100\n",
    "p = 0.5\n",
    "dist = st.binom(n=n, p=p)\n",
    "k = dist.pmf(67)\n",
    "print(k)"
   ]
  },
  {
   "cell_type": "markdown",
   "metadata": {},
   "source": [
    "Because coin is flipped 100 times. It comes up heads 67 times already first time : "
   ]
  },
  {
   "cell_type": "markdown",
   "metadata": {},
   "source": [
    "P( x>=67 | 67) = p(67|x>=67) * p(x>=67) / p(67) = 1 * 0.0002 / 0.00023247133474277806 = 0.004060089321965083"
   ]
  },
  {
   "cell_type": "markdown",
   "metadata": {},
   "source": [
    "3.2. [7 pts] If we assume thee probability of getting a head on any given flip is \n",
    "0.62, what is the probability{ 45 ≤ # heads ≤ 63}?"
   ]
  },
  {
   "cell_type": "code",
   "execution_count": 8,
   "metadata": {},
   "outputs": [
    {
     "name": "stdout",
     "output_type": "stream",
     "text": [
      "0.6179886017163839\n"
     ]
    }
   ],
   "source": [
    "n = 100\n",
    "p = 0.62\n",
    "dist = st.binom(n=n, p=p)\n",
    "result63 = dist.cdf(63)\n",
    "result45 = dist.cdf(45)\n",
    "result = result63-result45\n",
    "print(result)"
   ]
  },
  {
   "cell_type": "markdown",
   "metadata": {},
   "source": [
    "4. States are in this order for the row and collums : 00,01,02,10,11,12,20,21,22![alt text](<Screenshot 2025-03-13 231237-1.png>)"
   ]
  },
  {
   "cell_type": "code",
   "execution_count": 7,
   "metadata": {},
   "outputs": [
    {
     "name": "stdout",
     "output_type": "stream",
     "text": [
      "[[0.33333333 0.33333333 0.         0.33333333 0.         0.\n",
      "  0.         0.         0.        ]\n",
      " [0.25       0.25       0.25       0.         0.25       0.\n",
      "  0.         0.         0.        ]\n",
      " [0.         0.33333333 0.33333333 0.         0.         0.33333333\n",
      "  0.         0.         0.        ]\n",
      " [0.25       0.         0.         0.25       0.25       0.\n",
      "  0.25       0.         0.        ]\n",
      " [0.         0.2        0.         0.2        0.2        0.2\n",
      "  0.         0.2        0.        ]\n",
      " [0.         0.         0.25       0.         0.25       0.25\n",
      "  0.         0.         0.25      ]\n",
      " [0.         0.         0.         0.33333333 0.         0.\n",
      "  0.33333333 0.33333333 0.        ]\n",
      " [0.         0.         0.         0.         0.25       0.\n",
      "  0.25       0.25       0.25      ]\n",
      " [0.         0.         0.         0.         0.         0.33333333\n",
      "  0.         0.33333333 0.33333333]]\n"
     ]
    }
   ],
   "source": [
    "p4 = np.array([[1/3, 1/3,0 , 1/3, 0,0,0,0,0],\n",
    "               [1/4, 1/4, 1/4, 0, 1/4,0,0,0,0],\n",
    "               [0,1/3,1/3,0,0,1/3,0,0,0],\n",
    "               [1/4,0,0,1/4,1/4,0,1/4,0,0],\n",
    "               [0, 1/5, 0, 1/5, 1/5, 1/5, 0, 1/5,0],\n",
    "               [0,0,1/4,0,1/4,1/4,0,0,1/4],\n",
    "               [0,0,0,1/3,0,0,1/3,1/3,0],\n",
    "               [0,0,0,0,1/4,0,1/4,1/4,1/4],\n",
    "               [0,0,0,0,0,1/3,0,1/3, 1/3]]) \n",
    "print (p4)"
   ]
  },
  {
   "cell_type": "markdown",
   "metadata": {},
   "source": [
    "Assuming the traveller starts at (1,1), determine the probability of \n",
    "reaching any other location after 8 seconds. Because starting state is 11 at index 4 in array so:"
   ]
  },
  {
   "cell_type": "code",
   "execution_count": 35,
   "metadata": {},
   "outputs": [
    {
     "name": "stdout",
     "output_type": "stream",
     "text": [
      "[0.09112025 0.1208702  0.09112025 0.1208702  0.1520382  0.1208702\n",
      " 0.09112025 0.1208702  0.09112025]\n"
     ]
    }
   ],
   "source": [
    "x = p4 @ p4 @ p4 @p4 @ p4 @p4 @ p4 @ p4\n",
    "print (x[4])"
   ]
  },
  {
   "cell_type": "markdown",
   "metadata": {},
   "source": [
    "4.2. [5 pts] Determine the long range probabilities (steady-state) of being in \n",
    "any location on the grid"
   ]
  },
  {
   "cell_type": "code",
   "execution_count": 6,
   "metadata": {},
   "outputs": [
    {
     "data": {
      "text/plain": [
       "(array([0.09090909, 0.12121212, 0.09090909, 0.12121212, 0.15151515,\n",
       "        0.12121212, 0.09090909, 0.12121212, 0.09090909]),\n",
       " array([0.09090909, 0.12121212, 0.09090909, 0.12121212, 0.15151515,\n",
       "        0.12121212, 0.09090909, 0.12121212, 0.09090909]))"
      ]
     },
     "execution_count": 6,
     "metadata": {},
     "output_type": "execute_result"
    }
   ],
   "source": [
    "def steady_state(P): \n",
    "    n = P.shape[0] \n",
    " \n",
    "    # Pch = P - I \n",
    "    Pch = P - np.eye(n) \n",
    "     \n",
    "    # replace column 0 with all ones \n",
    "    Pch[:,0] = np.ones(n) \n",
    " \n",
    "    # rhs = [1, 0, ... 0]` \n",
    "    rhs = np.zeros(n) \n",
    "    rhs[0] = 1. \n",
    " \n",
    "    # solve the system \n",
    "    # NOTE: solver wants Ax = b \n",
    "    # so transform sytem w transpose \n",
    "# \n",
    "    ans = la.solve(Pch.T,rhs) \n",
    "    return ans.T \n",
    "\n",
    "res = steady_state(p4) \n",
    "res @ p4, res"
   ]
  },
  {
   "cell_type": "markdown",
   "metadata": {},
   "source": [
    "“On my honor, I have neither given nor received any unauthorized aid on this (exam, quiz, paper).” \n",
    "Holly Do"
   ]
  }
 ],
 "metadata": {
  "kernelspec": {
   "display_name": "Python 3",
   "language": "python",
   "name": "python3"
  },
  "language_info": {
   "codemirror_mode": {
    "name": "ipython",
    "version": 3
   },
   "file_extension": ".py",
   "mimetype": "text/x-python",
   "name": "python",
   "nbconvert_exporter": "python",
   "pygments_lexer": "ipython3",
   "version": "3.13.2"
  }
 },
 "nbformat": 4,
 "nbformat_minor": 2
}
