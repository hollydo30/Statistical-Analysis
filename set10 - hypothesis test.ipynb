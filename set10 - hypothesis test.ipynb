{
 "cells": [
  {
   "cell_type": "markdown",
   "id": "54cff8e2",
   "metadata": {},
   "source": [
    "# Problem Set 10\n",
    "Holly Do"
   ]
  },
  {
   "cell_type": "code",
   "execution_count": 1,
   "id": "a73b6d62",
   "metadata": {},
   "outputs": [],
   "source": [
    "import random as rnd\n",
    "import math as mth\n",
    "import statistics as sts\n",
    "import numpy as np\n",
    "import scipy as sci\n",
    "import scipy.linalg as la\n",
    "import scipy.stats as st\n",
    "import scipy.special as spp\n",
    "import matplotlib.pyplot as plt\n",
    "import sympy as sy\n",
    "import stemgraphic as stm\n",
    "\n",
    "import itertools as it\n",
    "import operator as op"
   ]
  },
  {
   "cell_type": "markdown",
   "id": "91cc0740",
   "metadata": {},
   "source": [
    "# 1.1"
   ]
  },
  {
   "cell_type": "markdown",
   "id": "c1b628a4",
   "metadata": {},
   "source": [
    "Given: \n",
    "* Large sample size of 120 > threshold\n",
    "* Given a polulation standard deviation $\\sigma$\n",
    "\n",
    "Formula to use : Z distribution\n",
    "\n",
    "This is a Z test, one sided - right side, test about the mean."
   ]
  },
  {
   "cell_type": "markdown",
   "id": "be45458b",
   "metadata": {},
   "source": [
    "Set up null and alternative hypothesis:\n",
    "\n",
    "$H_0:\\ $  mu = 35\n",
    "\n",
    "$H_A:\\ $ mu > 35"
   ]
  },
  {
   "cell_type": "markdown",
   "id": "cfb1bdfb",
   "metadata": {},
   "source": [
    "# 1.2"
   ]
  },
  {
   "cell_type": "code",
   "execution_count": 30,
   "id": "cb6ed66d",
   "metadata": {},
   "outputs": [
    {
     "name": "stdout",
     "output_type": "stream",
     "text": [
      "4.3308295244594515\n"
     ]
    },
    {
     "data": {
      "text/plain": [
       "np.float64(7.4274329291412755e-06)"
      ]
     },
     "execution_count": 30,
     "metadata": {},
     "output_type": "execute_result"
    }
   ],
   "source": [
    "n = 120\n",
    "mean = 38.4\n",
    "sigma = 8.6\n",
    "mu_0 = 35\n",
    "zstat = (mean - mu_0) / (sigma / mth.sqrt(n))\n",
    "print(zstat)\n",
    "pval = 1 - st.norm().cdf(zstat)\n",
    "pval"
   ]
  },
  {
   "cell_type": "markdown",
   "id": "f98822ee",
   "metadata": {},
   "source": [
    "P value is very small, which means there is sufficient evidence to reject the null hypothesis and favor the claim that mean number of students \n",
    "simultaneously using the Triskellion 4 server is greater than 35."
   ]
  },
  {
   "cell_type": "markdown",
   "id": "7e514bf7",
   "metadata": {},
   "source": [
    "# 1.3"
   ]
  },
  {
   "cell_type": "code",
   "execution_count": null,
   "id": "1e56d5b1",
   "metadata": {},
   "outputs": [],
   "source": [
    "alpha = 0.02"
   ]
  },
  {
   "cell_type": "markdown",
   "id": "f71e5a05",
   "metadata": {},
   "source": [
    "At the 2% level of significance, there is sufficient evidence that the mean number of Triskellion 4 \n",
    "users greater than 35 because pval < 0.02."
   ]
  },
  {
   "cell_type": "markdown",
   "id": "8bf1796e",
   "metadata": {},
   "source": [
    "# 2"
   ]
  },
  {
   "cell_type": "markdown",
   "id": "2898b47a",
   "metadata": {},
   "source": [
    "Given: \n",
    "* Underlying distribution is normally distributed\n",
    "* Given a polulation standard deviation $\\sigma$\n",
    "\n",
    "Formula to use : Z distribution\n",
    "\n",
    "Setup for Hypothesis Test:\n",
    "\n",
    "$H_0: mu = 40$  \n",
    "\n",
    "$H_A: mu < 40$\n",
    "\n",
    "This is a one sided - left side - Z test about the mean."
   ]
  },
  {
   "cell_type": "code",
   "execution_count": 31,
   "id": "4b73ce8e",
   "metadata": {},
   "outputs": [
    {
     "name": "stdout",
     "output_type": "stream",
     "text": [
      "4.93558882374101\n"
     ]
    },
    {
     "data": {
      "text/plain": [
       "np.float64(0.9999996004534913)"
      ]
     },
     "execution_count": 31,
     "metadata": {},
     "output_type": "execute_result"
    }
   ],
   "source": [
    "mullet = np.loadtxt('mullet-update.txt')\n",
    "sigma = 6 \n",
    "mu_0 = 40\n",
    "s_mean = np.mean(mullet) \n",
    "n = len(mullet)\n",
    "zstat = (s_mean - mu_0) / (sigma / mth.sqrt(n))\n",
    "print(zstat)\n",
    "pval = st.norm().cdf(zstat)\n",
    "pval"
   ]
  },
  {
   "cell_type": "markdown",
   "id": "294640a1",
   "metadata": {},
   "source": [
    "P value is close to 1, which means there is not sufficient evidence to reject the null hypothesis. There is not sufficient evidence to support the vendor claim that the mean update time for this rev is less than 40 minutes."
   ]
  },
  {
   "cell_type": "markdown",
   "id": "81494085",
   "metadata": {},
   "source": [
    "# 3"
   ]
  },
  {
   "cell_type": "markdown",
   "id": "cc0a111c",
   "metadata": {},
   "source": [
    "Given: \n",
    "* Small sample size of 5\n",
    "* Not given a polulation standard deviation $\\sigma$\n",
    "\n",
    "Formula to use : T distribution\n",
    "\n",
    "This is a T test about a mean, left sided test. \n",
    "\n",
    "Setup for Hypothesis Test:\n",
    "\n",
    "$H_0: mu = 75$  \n",
    "\n",
    "$H_A: mu < 75$"
   ]
  },
  {
   "cell_type": "code",
   "execution_count": 27,
   "id": "8dc544c6",
   "metadata": {},
   "outputs": [
    {
     "name": "stdout",
     "output_type": "stream",
     "text": [
      "58.6\n",
      "-1.9677796210229768\n"
     ]
    },
    {
     "data": {
      "text/plain": [
       "np.float64(0.12047557286818411)"
      ]
     },
     "execution_count": 27,
     "metadata": {},
     "output_type": "execute_result"
    }
   ],
   "source": [
    "n = 5\n",
    "rate = np.array([35,45,60,75,78])\n",
    "mu = 75\n",
    "s_sig = np.std(rate, ddof=1)\n",
    "xbar = np.mean(rate)\n",
    "print(xbar)\n",
    "tstat = (xbar - mu)/(s_sig/mth.sqrt(n))\n",
    "print(tstat)\n",
    "dof = n-1\n",
    "dst = st.t(dof).cdf(tstat)\n",
    "pval"
   ]
  },
  {
   "cell_type": "markdown",
   "id": "4dacbeb9",
   "metadata": {},
   "source": [
    "P value for this test is 0.12, if alpha is set to be less than 0.12 then there is not significant evidence to support the claim. If alpha is set to be larger than 0.12 then there is significant evidence to support the claim."
   ]
  },
  {
   "cell_type": "markdown",
   "id": "ca6f905f",
   "metadata": {},
   "source": [
    "# 4.1"
   ]
  },
  {
   "cell_type": "markdown",
   "id": "9a60b264",
   "metadata": {},
   "source": [
    "Given: \n",
    "* Large sample size of 1000 > threshold\n",
    "* Proportion\n",
    "\n",
    "Formula to use : Z distribution\n"
   ]
  },
  {
   "cell_type": "markdown",
   "id": "daf2c245",
   "metadata": {},
   "source": [
    "### Notes\n",
    "What test? Looking for proportion.  \n",
    "Sample size > threshold\n",
    "So, Z-test.\n",
    "\n",
    "What do we Know:\n",
    "$p_0 = .1$\n",
    "\n",
    "Setup for Hypothesis Test:\n",
    "\n",
    "$\\hat{p}hat = 115/1000$\n",
    "\n",
    "$H_0: p = .1$  \n",
    "$H_A: p > .1$"
   ]
  },
  {
   "cell_type": "code",
   "execution_count": 37,
   "id": "cfdd8957",
   "metadata": {},
   "outputs": [
    {
     "data": {
      "text/plain": [
       "np.float64(0.056923149003329065)"
      ]
     },
     "execution_count": 37,
     "metadata": {},
     "output_type": "execute_result"
    }
   ],
   "source": [
    "# Z-test for proportion\n",
    "ndefects = 115\n",
    "n = 1000 # sample size\n",
    "phat = ndefects/n\n",
    "p0 = 0.1\n",
    "sig2 = (p0*(1-p0))/n\n",
    "sig = mth.sqrt(sig2)\n",
    "zstat = (phat-p0)/sig\n",
    "pval = 1 - st.norm().cdf(zstat)\n",
    "pval"
   ]
  },
  {
   "cell_type": "markdown",
   "id": "25cb4488",
   "metadata": {},
   "source": [
    "At 5% level of significance, pval is slightly too large to reject null hypothesis.\n",
    "So, Mr. Coyote cannot dispute the 10% failure rate that ACME claims at this level of significance."
   ]
  },
  {
   "cell_type": "markdown",
   "id": "a246692c",
   "metadata": {},
   "source": [
    "# 4.2"
   ]
  },
  {
   "cell_type": "code",
   "execution_count": null,
   "id": "1729788e",
   "metadata": {},
   "outputs": [],
   "source": [
    "alpha = 0.2"
   ]
  },
  {
   "cell_type": "markdown",
   "id": "a5b217f5",
   "metadata": {},
   "source": [
    "At 20% level of significance, pval is too large to reject null hypothesis.\n",
    "So, Mr. Coyote cannot dispute the 10% failure rate that ACME claims at this level of significance."
   ]
  },
  {
   "cell_type": "markdown",
   "id": "b75cc0f1",
   "metadata": {},
   "source": [
    "# 5"
   ]
  },
  {
   "cell_type": "markdown",
   "id": "b3c50965",
   "metadata": {},
   "source": [
    "Given: \n",
    "* Large sample size of 350 and 400 > threshold\n",
    "* Proportion\n",
    "\n",
    "Formula to use : Z distribution"
   ]
  },
  {
   "cell_type": "markdown",
   "id": "f9be4c9a",
   "metadata": {},
   "source": [
    "Problem class = diff of proportions.  \n",
    "\n",
    "So, Z-test. (sample sizes large enough)\n",
    "\n",
    "Z-Test difference of proportions setup:\n",
    "\n",
    "$H_0 : $  phat_H - phat_D = 0\n",
    "\n",
    "$H_A : $  phat_H - phat_D < 0 \n",
    "\n",
    "Z distribution 1 sided test of difference in proportions"
   ]
  },
  {
   "cell_type": "code",
   "execution_count": 38,
   "id": "f4ecbec3",
   "metadata": {},
   "outputs": [
    {
     "name": "stdout",
     "output_type": "stream",
     "text": [
      "-0.8535532875814258\n"
     ]
    },
    {
     "data": {
      "text/plain": [
       "np.float64(0.19667627511559216)"
      ]
     },
     "execution_count": 38,
     "metadata": {},
     "output_type": "execute_result"
    }
   ],
   "source": [
    "#\n",
    "# \"_H\" for Houston\n",
    "# \"_D\" for Dallas\n",
    "#\n",
    "ndefects_H = 10\n",
    "n_H = 350\n",
    "phat_H = ndefects_H/n_H\n",
    "\n",
    "ndefects_D = 16\n",
    "n_D = 400\n",
    "phat_D = ndefects_D/n_D\n",
    "\n",
    "## pooled sample variance\n",
    "p0 = (ndefects_H + ndefects_D)/(n_H + n_D)\n",
    "sig0 = p0*(1-p0)\n",
    "sig = mth.sqrt(sig0*((1./n_H) + (1./n_D)))\n",
    "\n",
    "zstat = (phat_H - phat_D)/sig\n",
    "print(zstat)\n",
    "pval = st.norm().cdf(zstat)\n",
    "pval"
   ]
  },
  {
   "cell_type": "markdown",
   "id": "bbe9fb8f",
   "metadata": {},
   "source": [
    "At the 5% level of significance, pval 0.1967 is greater than 0.05,  so the Houston office cannot claim a better process than Dallas office."
   ]
  },
  {
   "cell_type": "markdown",
   "id": "66fb0d28",
   "metadata": {},
   "source": [
    "# 5.2"
   ]
  },
  {
   "cell_type": "code",
   "execution_count": null,
   "id": "d791fd65",
   "metadata": {},
   "outputs": [],
   "source": [
    "alpha = 0.1"
   ]
  },
  {
   "cell_type": "markdown",
   "id": "1bbe85e3",
   "metadata": {},
   "source": [
    "At the 10% level of significance, pval 0.1967 is greater than 0.1,  so the Houston office cannot claim a better process than Dallas office."
   ]
  },
  {
   "cell_type": "markdown",
   "id": "5148e5c8",
   "metadata": {},
   "source": [
    "# 6"
   ]
  },
  {
   "cell_type": "markdown",
   "id": "47516dc4",
   "metadata": {},
   "source": [
    "Given: \n",
    "* Large sample size of 84 and 200 > threshold 50\n",
    "* Proportion\n",
    "\n",
    "Formula to use : Z distribution"
   ]
  },
  {
   "cell_type": "markdown",
   "id": "b4d7ae1a",
   "metadata": {},
   "source": [
    "Problem class = diff of proportions.  \n",
    "\n",
    "Z-Test difference of proportions setup:\n",
    "\n",
    "$H_0 : $  phat_SLO - phat_S = 0\n",
    "\n",
    "$H_A : $  phat_SLO - phat_S < 0 \n",
    "\n",
    "Z test 1 sided - left side - test of difference in proportions"
   ]
  },
  {
   "cell_type": "code",
   "execution_count": 32,
   "id": "96c08228",
   "metadata": {},
   "outputs": [
    {
     "data": {
      "text/plain": [
       "np.float64(0.02405545535223496)"
      ]
     },
     "execution_count": 32,
     "metadata": {},
     "output_type": "execute_result"
    }
   ],
   "source": [
    "#\n",
    "# \"_SLO\" for San Lois Obispo\n",
    "# \"_S\" for Sacramento\n",
    "#\n",
    "nvote_S = 60\n",
    "n_S = 84\n",
    "phat_S = nvote_S/n_S\n",
    "\n",
    "nvote_SLO = 118\n",
    "n_SLO = 200\n",
    "phat_SLO = nvote_SLO/n_SLO\n",
    "\n",
    "## pooled sample variance\n",
    "p0 = (nvote_S + nvote_SLO)/(n_S + n_SLO)\n",
    "sig0 = p0*(1-p0)\n",
    "sig = mth.sqrt(sig0*((1./n_S) + (1./n_SLO)))\n",
    "\n",
    "zstat = (phat_SLO - phat_S)/sig\n",
    "pval = st.norm().cdf(zstat)\n",
    "pval"
   ]
  },
  {
   "cell_type": "markdown",
   "id": "e2f9d6d6",
   "metadata": {},
   "source": [
    "Pval is 0.024. If pval > alpha he cannot claim level of support in San Luis Obispo is significantly less than his support in Sacramento. If pval < alpha he can claim level of support in San Luis Obispo is significantly less than his support in Sacramento."
   ]
  },
  {
   "cell_type": "markdown",
   "id": "8357f16f",
   "metadata": {},
   "source": [
    "# 7"
   ]
  },
  {
   "cell_type": "markdown",
   "id": "695ec1b1",
   "metadata": {},
   "source": [
    "Given: \n",
    "* Large sample size of 57 > threshold 50\n",
    "* Not given a trusted population standard deviation \n",
    "\n",
    "Formula to use : T distribution"
   ]
  },
  {
   "cell_type": "markdown",
   "id": "912e190a",
   "metadata": {},
   "source": [
    "# 7.1 \n",
    "Design an appropriate statistical test to determine if the mean difference between Frank and Drac is 0 or not. Using the monster.txt data, give the P-value for your test."
   ]
  },
  {
   "cell_type": "markdown",
   "id": "42e315f7",
   "metadata": {},
   "source": [
    "\n",
    "$H_0 : $  mu = 0\n",
    "\n",
    "$H_A : $  mu != 0 \n",
    "\n",
    "T distribution test about the mean - 2 sided test"
   ]
  },
  {
   "cell_type": "code",
   "execution_count": 40,
   "id": "2bbd7504",
   "metadata": {},
   "outputs": [
    {
     "data": {
      "text/plain": [
       "np.float64(0.8076028068906813)"
      ]
     },
     "execution_count": 40,
     "metadata": {},
     "output_type": "execute_result"
    }
   ],
   "source": [
    "monster = np.loadtxt('monster.txt').astype(int)\n",
    "n = len(monster)\n",
    "xbar = np.mean(monster)\n",
    "sigma = np.std(monster,ddof=1)\n",
    "mu = 0\n",
    "tstat = (xbar - mu)/(sigma/mth.sqrt(n))\n",
    "dof = n-1\n",
    "dst = 1-st.t(dof).cdf(abs(tstat))\n",
    "pval = 2 * dst\n",
    "pval"
   ]
  },
  {
   "cell_type": "markdown",
   "id": "adff8947",
   "metadata": {},
   "source": [
    "Pval is 0.8, if alpha is set to be less than 0.8 then there is not significant evidence to support the claim. If alpha is set to be larger than 0.8 then there is significant evidence to support the claim."
   ]
  },
  {
   "cell_type": "markdown",
   "id": "3c85fec5",
   "metadata": {},
   "source": [
    "# 7.2\n",
    "Suppose Sara is of the opinion that Frank is “slightly” better than Drac. This means that the average of the Frank-Drac data should be negative. Give the P-value for this new test. Note: RANKING IS ORDINAL so Frank-Drac is negative!"
   ]
  },
  {
   "cell_type": "markdown",
   "id": "9b0b92d1",
   "metadata": {},
   "source": [
    "Ha changed, from 2 sided to 1 sided - left sided - T test about the mean."
   ]
  },
  {
   "cell_type": "markdown",
   "id": "f363104c",
   "metadata": {},
   "source": [
    "\n",
    "$H_0 : $  mu = 0\n",
    "\n",
    "$H_A : $  mu < 0 \n"
   ]
  },
  {
   "cell_type": "code",
   "execution_count": 39,
   "id": "530dd8f6",
   "metadata": {},
   "outputs": [
    {
     "name": "stdout",
     "output_type": "stream",
     "text": [
      "-0.2446744936015633\n"
     ]
    },
    {
     "data": {
      "text/plain": [
       "np.float64(0.4038014034453407)"
      ]
     },
     "execution_count": 39,
     "metadata": {},
     "output_type": "execute_result"
    }
   ],
   "source": [
    "monster = np.loadtxt('monster.txt').astype(int)\n",
    "n = len(monster)\n",
    "xbar = np.mean(monster)\n",
    "sigma = np.std(monster,ddof=1)\n",
    "mu = 0\n",
    "tstat = (xbar - mu)/(sigma/mth.sqrt(n))\n",
    "print(tstat)\n",
    "dof = n-1\n",
    "dst = st.t(dof).cdf(tstat)\n",
    "pval = dst\n",
    "pval"
   ]
  },
  {
   "cell_type": "markdown",
   "id": "20133cdd",
   "metadata": {},
   "source": [
    "Pval is 0.4, if alpha is set to be less than 0.4 then there is not significant evidence to support the claim. If alpha is set to be larger than 0.4 then there is significant evidence to support the claim."
   ]
  },
  {
   "cell_type": "markdown",
   "id": "11efac47",
   "metadata": {},
   "source": [
    "# 8"
   ]
  },
  {
   "cell_type": "markdown",
   "id": "9fbf885d",
   "metadata": {},
   "source": [
    "Given: \n",
    "* Small sample size of 6 < threshold\n",
    "* Not given a population standard deviation \n",
    "\n",
    "Formula to use : T distribution"
   ]
  },
  {
   "cell_type": "code",
   "execution_count": 4,
   "id": "c5f5c16c",
   "metadata": {},
   "outputs": [],
   "source": [
    "anthony = np.array([85,92,97,65,75,96])\n",
    "eric = np.array([81,79,76,84,83,77])"
   ]
  },
  {
   "cell_type": "markdown",
   "id": "5a643567",
   "metadata": {},
   "source": [
    "# 8.1"
   ]
  },
  {
   "cell_type": "markdown",
   "id": "33bd7d04",
   "metadata": {},
   "source": [
    "Given: \n",
    "* Actual scores of the two friends are independent and normally distributed\n",
    "* Not given a population standard deviation \n",
    "\n",
    "Formula to use : T distribution\n",
    "\n",
    "This is a one sided - right side - T test of difference between two means."
   ]
  },
  {
   "cell_type": "markdown",
   "id": "fb7c0fc6",
   "metadata": {},
   "source": [
    "Assume the variances in the student’s grades are equal.\n",
    "\n",
    "$H_0 : $  mu_anthony - mu_eric = 0\n",
    "\n",
    "$H_A : $  mu_anthony - mu_eric > 0 \n"
   ]
  },
  {
   "cell_type": "markdown",
   "id": "afdfc938",
   "metadata": {},
   "source": [
    "## Pooled Sample Variance (or Std Deviation)\n",
    "When conducting a 2-sample (or paired sample) t-test, 1 possible assumption is that the variances of the paired\n",
    "samples are unknown, but equal. To get a better estimate for the (common) variance, the best method is to combine\n",
    "the 2 samples into a common variance estimate called the *pooled sample variance*, denoted as $s_p^2$.\n",
    "The formula for the pooled sample variance for 2 samples $X,Y$\n",
    ">$\n",
    "    s_p^2 = \\dfrac{{\\displaystyle \\sum_{i=1}^n} (x_i - \\bar{X})^2 + \n",
    "    {\\displaystyle \\sum_{i=1}^m }(y_i - \\bar{Y})^2}{n+m-2}\n",
    "$  \n",
    "\n",
    "where $n$ is the size of the $X$ sample, and $m$ is the size of the $Y$ sample.\n",
    "\n",
    "The components of the numerator of $s_p^2$ are the sum-of-squared differences used in the calculation of\n",
    "the variance (or sample variance). Consequently, the formula for $s_p^2$ can be written as\n",
    ">$\n",
    "    s_p^2 = \\dfrac{(n)\\sigma^2(X) + (m)\\sigma^2(Y)}{n+m-2}\n",
    "$"
   ]
  },
  {
   "cell_type": "code",
   "execution_count": 16,
   "id": "f74d7a76",
   "metadata": {},
   "outputs": [
    {
     "name": "stdout",
     "output_type": "stream",
     "text": [
      "0.849534582538231\n"
     ]
    },
    {
     "data": {
      "text/plain": [
       "np.float64(0.18698577208106237)"
      ]
     },
     "execution_count": 16,
     "metadata": {},
     "output_type": "execute_result"
    }
   ],
   "source": [
    "anthony_mean = np.mean(anthony)\n",
    "eric_mean = np.mean(eric)\n",
    "anthony_var = np.var(anthony, ddof = 1)\n",
    "eric_var = np.var(eric, ddof = 1)\n",
    "na = 6\n",
    "ne = 6\n",
    "\n",
    "## pooled sample variance\n",
    "spool2 = ((na*anthony_var) + (ne*eric_var)) / (na + ne -2)\n",
    "spool = mth.sqrt(spool2)\n",
    "sig = spool*mth.sqrt((1./na) + (1./ne))\n",
    "\n",
    "tstat = (anthony_mean - eric_mean - 0)/sig\n",
    "print(tstat)\n",
    "df = 6 + 6 - 2 #10\n",
    "pval = 1 - st.t(df).cdf(zstat)\n",
    "pval"
   ]
  },
  {
   "cell_type": "markdown",
   "id": "0188aa3f",
   "metadata": {},
   "source": [
    "Pval is 0.19, if alpha is set to be less than 0.19 then there is not significant evidence to support Anthony’s claim. If alpha is set to be larger than 0.19 then there is significant evidence to support Anthony’s claim."
   ]
  },
  {
   "cell_type": "markdown",
   "id": "47696403",
   "metadata": {},
   "source": [
    "# 8.2"
   ]
  },
  {
   "cell_type": "markdown",
   "id": "f4756d41",
   "metadata": {},
   "source": [
    "Assume the variances in the student’s grades are not equal.\n",
    "\n",
    "$H_0 : $  mu_anthony - mu_eric = 0\n",
    "\n",
    "$H_A : $  mu_anthony - mu_eric > 0 \n",
    "\n",
    "Formula to use : T distribution\n",
    "This is a one sided - right side - T test of difference between two means."
   ]
  },
  {
   "cell_type": "markdown",
   "id": "21c4ade2",
   "metadata": {},
   "source": [
    "## 2-Sample t-test With Unequal Variance (test difference of means)\n",
    "The t-statistic for a difference of means assuming the variances are unequal (and unknown) is:\n",
    ">$\n",
    "\\dfrac{\\bar{X} - \\bar{Y} - D}{\\sqrt{\\frac{s_X^2}{n} + \\frac{s_Y^2}{m}}}\n",
    "$\n",
    "\n",
    "where:\n",
    "- the 2 samples are $X,Y$\n",
    "- the sample means are $\\bar{X},\\bar{Y}$\n",
    "- the null hypothesis is that $\\mu_X - \\mu_Y = D$.  \n",
    "    NOTE: $D = 0$ is a common case\n",
    "- the size of the sample from $X.Y$ is $n,m$ respectively\n",
    "- $s_X^2,s_Y^2$ are the sample variances\n",
    "\n",
    "In this unequal-variance case, the degrees of freedom for the t-test is given by the Satterthwaite formula\n",
    ">$\n",
    "   \\nu = \\dfrac{\\left(\\dfrac{s_X^2}{n} + \\dfrac{s_Y^2}{m}\\right)^2}\n",
    "   {\\dfrac{s_X^4}{n^2\\,(n-1)} + \\dfrac{s_Y^4}{m^2\\,(m-1)}}\n",
    "$"
   ]
  },
  {
   "cell_type": "code",
   "execution_count": 36,
   "id": "be19f75f",
   "metadata": {},
   "outputs": [
    {
     "name": "stdout",
     "output_type": "stream",
     "text": [
      "85.0\n",
      "80.0\n",
      "5.636224259732453\n"
     ]
    },
    {
     "data": {
      "text/plain": [
       "np.float64(0.19508584405029739)"
      ]
     },
     "execution_count": 36,
     "metadata": {},
     "output_type": "execute_result"
    }
   ],
   "source": [
    "anthony_mean = np.mean(anthony)\n",
    "print(anthony_mean)\n",
    "eric_mean = np.mean(eric)\n",
    "print(eric_mean)\n",
    "anthony_var = np.var(anthony, ddof = 1)\n",
    "eric_var = np.var(eric, ddof = 1)\n",
    "na = 6\n",
    "ne = 6\n",
    "\n",
    "## pooled sample variance\n",
    "sig = mth.sqrt((anthony_var/na) + (eric_var/ne))\n",
    "\n",
    "tstat = (anthony_mean - eric_mean)/sig\n",
    "\n",
    "dftop = ((anthony_var/na) + (eric_var/ne))**2 \n",
    "dfbottom = ((anthony_var**2) / ((na**2)*(na-1))) + ((eric_var**2) / ((ne**2)*(ne-1))) #parentheses\n",
    "df = dftop/dfbottom\n",
    "print(df)\n",
    "\n",
    "pval = 1-st.t(df).cdf(tstat)\n",
    "pval"
   ]
  },
  {
   "cell_type": "markdown",
   "id": "1098b6b5",
   "metadata": {},
   "source": [
    "Pval is 0.195, if alpha is set to be less than 0.195 then there is not significant evidence to support Anthony’s claim. If alpha is set to be larger than 0.195 then there is significant evidence to support Anthony’s claim."
   ]
  }
 ],
 "metadata": {
  "kernelspec": {
   "display_name": "Python 3",
   "language": "python",
   "name": "python3"
  },
  "language_info": {
   "codemirror_mode": {
    "name": "ipython",
    "version": 3
   },
   "file_extension": ".py",
   "mimetype": "text/x-python",
   "name": "python",
   "nbconvert_exporter": "python",
   "pygments_lexer": "ipython3",
   "version": "3.13.2"
  }
 },
 "nbformat": 4,
 "nbformat_minor": 5
}
